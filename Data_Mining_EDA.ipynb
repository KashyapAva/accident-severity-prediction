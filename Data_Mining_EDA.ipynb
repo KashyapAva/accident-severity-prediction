{
  "cells": [
    {
      "cell_type": "code",
      "execution_count": 1,
      "metadata": {
        "colab": {
          "base_uri": "https://localhost:8080/"
        },
        "id": "giRh6eQqQWv3",
        "outputId": "976acd77-ed4e-435b-cffb-d4f712032716"
      },
      "outputs": [],
      "source": [
        "#from google.colab import drive\n",
        "\n",
        "#drive.mount(\"/content/gdrive\")"
      ]
    },
    {
      "cell_type": "code",
      "execution_count": 2,
      "metadata": {
        "colab": {
          "base_uri": "https://localhost:8080/"
        },
        "id": "MNhYODWXMWYj",
        "outputId": "b7ca8f76-abe2-4d98-f134-eb7650972685"
      },
      "outputs": [
        {
          "name": "stdout",
          "output_type": "stream",
          "text": [
            "Read csv with dask:  32.2766900062561 sec\n"
          ]
        }
      ],
      "source": [
        "from dask import dataframe as dd\n",
        "import time\n",
        "\n",
        "start = time.time()\n",
        "dask_df = dd.read_csv(\"/Users/kashyapava/Desktop/UIUC/SEM_1/CS 412/Project/US_Accidents_March23.csv\").compute()\n",
        "end = time.time()\n",
        "print(\"Read csv with dask: \",(end-start),\"sec\")"
      ]
    },
    {
      "cell_type": "code",
      "execution_count": 3,
      "metadata": {
        "colab": {
          "base_uri": "https://localhost:8080/",
          "height": 429
        },
        "id": "vXiPJqUkQkmn",
        "outputId": "8e54f8cc-8b69-45ed-bf26-7d7a2530ab29"
      },
      "outputs": [
        {
          "data": {
            "text/html": [
              "<div>\n",
              "<style scoped>\n",
              "    .dataframe tbody tr th:only-of-type {\n",
              "        vertical-align: middle;\n",
              "    }\n",
              "\n",
              "    .dataframe tbody tr th {\n",
              "        vertical-align: top;\n",
              "    }\n",
              "\n",
              "    .dataframe thead th {\n",
              "        text-align: right;\n",
              "    }\n",
              "</style>\n",
              "<table border=\"1\" class=\"dataframe\">\n",
              "  <thead>\n",
              "    <tr style=\"text-align: right;\">\n",
              "      <th></th>\n",
              "      <th>ID</th>\n",
              "      <th>Source</th>\n",
              "      <th>Severity</th>\n",
              "      <th>Start_Time</th>\n",
              "      <th>End_Time</th>\n",
              "      <th>Start_Lat</th>\n",
              "      <th>Start_Lng</th>\n",
              "      <th>End_Lat</th>\n",
              "      <th>End_Lng</th>\n",
              "      <th>Distance(mi)</th>\n",
              "      <th>...</th>\n",
              "      <th>Roundabout</th>\n",
              "      <th>Station</th>\n",
              "      <th>Stop</th>\n",
              "      <th>Traffic_Calming</th>\n",
              "      <th>Traffic_Signal</th>\n",
              "      <th>Turning_Loop</th>\n",
              "      <th>Sunrise_Sunset</th>\n",
              "      <th>Civil_Twilight</th>\n",
              "      <th>Nautical_Twilight</th>\n",
              "      <th>Astronomical_Twilight</th>\n",
              "    </tr>\n",
              "  </thead>\n",
              "  <tbody>\n",
              "    <tr>\n",
              "      <th>0</th>\n",
              "      <td>A-1</td>\n",
              "      <td>Source2</td>\n",
              "      <td>3</td>\n",
              "      <td>2016-02-08 05:46:00</td>\n",
              "      <td>2016-02-08 11:00:00</td>\n",
              "      <td>39.865147</td>\n",
              "      <td>-84.058723</td>\n",
              "      <td>NaN</td>\n",
              "      <td>NaN</td>\n",
              "      <td>0.01</td>\n",
              "      <td>...</td>\n",
              "      <td>False</td>\n",
              "      <td>False</td>\n",
              "      <td>False</td>\n",
              "      <td>False</td>\n",
              "      <td>False</td>\n",
              "      <td>False</td>\n",
              "      <td>Night</td>\n",
              "      <td>Night</td>\n",
              "      <td>Night</td>\n",
              "      <td>Night</td>\n",
              "    </tr>\n",
              "    <tr>\n",
              "      <th>1</th>\n",
              "      <td>A-2</td>\n",
              "      <td>Source2</td>\n",
              "      <td>2</td>\n",
              "      <td>2016-02-08 06:07:59</td>\n",
              "      <td>2016-02-08 06:37:59</td>\n",
              "      <td>39.928059</td>\n",
              "      <td>-82.831184</td>\n",
              "      <td>NaN</td>\n",
              "      <td>NaN</td>\n",
              "      <td>0.01</td>\n",
              "      <td>...</td>\n",
              "      <td>False</td>\n",
              "      <td>False</td>\n",
              "      <td>False</td>\n",
              "      <td>False</td>\n",
              "      <td>False</td>\n",
              "      <td>False</td>\n",
              "      <td>Night</td>\n",
              "      <td>Night</td>\n",
              "      <td>Night</td>\n",
              "      <td>Day</td>\n",
              "    </tr>\n",
              "    <tr>\n",
              "      <th>2</th>\n",
              "      <td>A-3</td>\n",
              "      <td>Source2</td>\n",
              "      <td>2</td>\n",
              "      <td>2016-02-08 06:49:27</td>\n",
              "      <td>2016-02-08 07:19:27</td>\n",
              "      <td>39.063148</td>\n",
              "      <td>-84.032608</td>\n",
              "      <td>NaN</td>\n",
              "      <td>NaN</td>\n",
              "      <td>0.01</td>\n",
              "      <td>...</td>\n",
              "      <td>False</td>\n",
              "      <td>False</td>\n",
              "      <td>False</td>\n",
              "      <td>False</td>\n",
              "      <td>True</td>\n",
              "      <td>False</td>\n",
              "      <td>Night</td>\n",
              "      <td>Night</td>\n",
              "      <td>Day</td>\n",
              "      <td>Day</td>\n",
              "    </tr>\n",
              "    <tr>\n",
              "      <th>3</th>\n",
              "      <td>A-4</td>\n",
              "      <td>Source2</td>\n",
              "      <td>3</td>\n",
              "      <td>2016-02-08 07:23:34</td>\n",
              "      <td>2016-02-08 07:53:34</td>\n",
              "      <td>39.747753</td>\n",
              "      <td>-84.205582</td>\n",
              "      <td>NaN</td>\n",
              "      <td>NaN</td>\n",
              "      <td>0.01</td>\n",
              "      <td>...</td>\n",
              "      <td>False</td>\n",
              "      <td>False</td>\n",
              "      <td>False</td>\n",
              "      <td>False</td>\n",
              "      <td>False</td>\n",
              "      <td>False</td>\n",
              "      <td>Night</td>\n",
              "      <td>Day</td>\n",
              "      <td>Day</td>\n",
              "      <td>Day</td>\n",
              "    </tr>\n",
              "    <tr>\n",
              "      <th>4</th>\n",
              "      <td>A-5</td>\n",
              "      <td>Source2</td>\n",
              "      <td>2</td>\n",
              "      <td>2016-02-08 07:39:07</td>\n",
              "      <td>2016-02-08 08:09:07</td>\n",
              "      <td>39.627781</td>\n",
              "      <td>-84.188354</td>\n",
              "      <td>NaN</td>\n",
              "      <td>NaN</td>\n",
              "      <td>0.01</td>\n",
              "      <td>...</td>\n",
              "      <td>False</td>\n",
              "      <td>False</td>\n",
              "      <td>False</td>\n",
              "      <td>False</td>\n",
              "      <td>True</td>\n",
              "      <td>False</td>\n",
              "      <td>Day</td>\n",
              "      <td>Day</td>\n",
              "      <td>Day</td>\n",
              "      <td>Day</td>\n",
              "    </tr>\n",
              "  </tbody>\n",
              "</table>\n",
              "<p>5 rows × 46 columns</p>\n",
              "</div>"
            ],
            "text/plain": [
              "    ID   Source  Severity           Start_Time             End_Time  \\\n",
              "0  A-1  Source2         3  2016-02-08 05:46:00  2016-02-08 11:00:00   \n",
              "1  A-2  Source2         2  2016-02-08 06:07:59  2016-02-08 06:37:59   \n",
              "2  A-3  Source2         2  2016-02-08 06:49:27  2016-02-08 07:19:27   \n",
              "3  A-4  Source2         3  2016-02-08 07:23:34  2016-02-08 07:53:34   \n",
              "4  A-5  Source2         2  2016-02-08 07:39:07  2016-02-08 08:09:07   \n",
              "\n",
              "   Start_Lat  Start_Lng  End_Lat  End_Lng  Distance(mi)  ... Roundabout  \\\n",
              "0  39.865147 -84.058723      NaN      NaN          0.01  ...      False   \n",
              "1  39.928059 -82.831184      NaN      NaN          0.01  ...      False   \n",
              "2  39.063148 -84.032608      NaN      NaN          0.01  ...      False   \n",
              "3  39.747753 -84.205582      NaN      NaN          0.01  ...      False   \n",
              "4  39.627781 -84.188354      NaN      NaN          0.01  ...      False   \n",
              "\n",
              "  Station   Stop Traffic_Calming Traffic_Signal Turning_Loop Sunrise_Sunset  \\\n",
              "0   False  False           False          False        False          Night   \n",
              "1   False  False           False          False        False          Night   \n",
              "2   False  False           False           True        False          Night   \n",
              "3   False  False           False          False        False          Night   \n",
              "4   False  False           False           True        False            Day   \n",
              "\n",
              "  Civil_Twilight Nautical_Twilight Astronomical_Twilight  \n",
              "0          Night             Night                 Night  \n",
              "1          Night             Night                   Day  \n",
              "2          Night               Day                   Day  \n",
              "3            Day               Day                   Day  \n",
              "4            Day               Day                   Day  \n",
              "\n",
              "[5 rows x 46 columns]"
            ]
          },
          "execution_count": 3,
          "metadata": {},
          "output_type": "execute_result"
        }
      ],
      "source": [
        "dask_df.head()"
      ]
    },
    {
      "cell_type": "code",
      "execution_count": 4,
      "metadata": {
        "colab": {
          "base_uri": "https://localhost:8080/"
        },
        "id": "2fI3xJ9vQub8",
        "outputId": "a4ceaea2-3f22-41b1-bc43-72379d436d04"
      },
      "outputs": [
        {
          "name": "stdout",
          "output_type": "stream",
          "text": [
            "<class 'pandas.core.frame.DataFrame'>\n",
            "Index: 7728394 entries, 0 to 173289\n",
            "Data columns (total 46 columns):\n",
            " #   Column                 Dtype  \n",
            "---  ------                 -----  \n",
            " 0   ID                     object \n",
            " 1   Source                 object \n",
            " 2   Severity               int64  \n",
            " 3   Start_Time             object \n",
            " 4   End_Time               object \n",
            " 5   Start_Lat              float64\n",
            " 6   Start_Lng              float64\n",
            " 7   End_Lat                float64\n",
            " 8   End_Lng                float64\n",
            " 9   Distance(mi)           float64\n",
            " 10  Description            object \n",
            " 11  Street                 object \n",
            " 12  City                   object \n",
            " 13  County                 object \n",
            " 14  State                  object \n",
            " 15  Zipcode                object \n",
            " 16  Country                object \n",
            " 17  Timezone               object \n",
            " 18  Airport_Code           object \n",
            " 19  Weather_Timestamp      object \n",
            " 20  Temperature(F)         float64\n",
            " 21  Wind_Chill(F)          float64\n",
            " 22  Humidity(%)            float64\n",
            " 23  Pressure(in)           float64\n",
            " 24  Visibility(mi)         float64\n",
            " 25  Wind_Direction         object \n",
            " 26  Wind_Speed(mph)        float64\n",
            " 27  Precipitation(in)      float64\n",
            " 28  Weather_Condition      object \n",
            " 29  Amenity                bool   \n",
            " 30  Bump                   bool   \n",
            " 31  Crossing               bool   \n",
            " 32  Give_Way               bool   \n",
            " 33  Junction               bool   \n",
            " 34  No_Exit                bool   \n",
            " 35  Railway                bool   \n",
            " 36  Roundabout             bool   \n",
            " 37  Station                bool   \n",
            " 38  Stop                   bool   \n",
            " 39  Traffic_Calming        bool   \n",
            " 40  Traffic_Signal         bool   \n",
            " 41  Turning_Loop           bool   \n",
            " 42  Sunrise_Sunset         object \n",
            " 43  Civil_Twilight         object \n",
            " 44  Nautical_Twilight      object \n",
            " 45  Astronomical_Twilight  object \n",
            "dtypes: bool(13), float64(12), int64(1), object(20)\n",
            "memory usage: 2.1+ GB\n"
          ]
        }
      ],
      "source": [
        "dask_df.info()"
      ]
    },
    {
      "cell_type": "code",
      "execution_count": 5,
      "metadata": {
        "colab": {
          "base_uri": "https://localhost:8080/"
        },
        "id": "pAr3zv4LSfRa",
        "outputId": "808f036f-0dd4-40c1-ddcd-50f556a4ece1"
      },
      "outputs": [
        {
          "data": {
            "text/plain": [
              "ID                             0\n",
              "Source                         0\n",
              "Severity                       0\n",
              "Start_Time                     0\n",
              "End_Time                       0\n",
              "Start_Lat                      0\n",
              "Start_Lng                      0\n",
              "End_Lat                  3402762\n",
              "End_Lng                  3402762\n",
              "Distance(mi)                   0\n",
              "Description                    5\n",
              "Street                     10869\n",
              "City                         253\n",
              "County                         0\n",
              "State                          0\n",
              "Zipcode                     1915\n",
              "Country                        0\n",
              "Timezone                    7808\n",
              "Airport_Code               22635\n",
              "Weather_Timestamp         120228\n",
              "Temperature(F)            163853\n",
              "Wind_Chill(F)            1999019\n",
              "Humidity(%)               174144\n",
              "Pressure(in)              140679\n",
              "Visibility(mi)            177098\n",
              "Wind_Direction            175206\n",
              "Wind_Speed(mph)           571233\n",
              "Precipitation(in)        2203586\n",
              "Weather_Condition         173459\n",
              "Amenity                        0\n",
              "Bump                           0\n",
              "Crossing                       0\n",
              "Give_Way                       0\n",
              "Junction                       0\n",
              "No_Exit                        0\n",
              "Railway                        0\n",
              "Roundabout                     0\n",
              "Station                        0\n",
              "Stop                           0\n",
              "Traffic_Calming                0\n",
              "Traffic_Signal                 0\n",
              "Turning_Loop                   0\n",
              "Sunrise_Sunset             23246\n",
              "Civil_Twilight             23246\n",
              "Nautical_Twilight          23246\n",
              "Astronomical_Twilight      23246\n",
              "dtype: int64"
            ]
          },
          "execution_count": 5,
          "metadata": {},
          "output_type": "execute_result"
        }
      ],
      "source": [
        "dask_df.isnull().sum()"
      ]
    },
    {
      "cell_type": "code",
      "execution_count": 6,
      "metadata": {
        "id": "rfPmmclai9sI"
      },
      "outputs": [],
      "source": [
        "state_to_timezone = dask_df.groupby('State')['Timezone'].first().to_dict()"
      ]
    },
    {
      "cell_type": "code",
      "execution_count": 7,
      "metadata": {
        "colab": {
          "base_uri": "https://localhost:8080/"
        },
        "id": "N9rYQF4jj6VU",
        "outputId": "d209c781-7021-4eff-a766-32c67ef98bf4"
      },
      "outputs": [
        {
          "data": {
            "text/plain": [
              "{'AL': 'US/Central',\n",
              " 'AR': 'US/Central',\n",
              " 'AZ': 'US/Mountain',\n",
              " 'CA': 'US/Pacific',\n",
              " 'CO': 'US/Mountain',\n",
              " 'CT': 'US/Eastern',\n",
              " 'DC': 'US/Eastern',\n",
              " 'DE': 'US/Eastern',\n",
              " 'FL': 'US/Eastern',\n",
              " 'GA': 'US/Eastern',\n",
              " 'IA': 'US/Central',\n",
              " 'ID': 'US/Pacific',\n",
              " 'IL': 'US/Central',\n",
              " 'IN': 'US/Central',\n",
              " 'KS': 'US/Central',\n",
              " 'KY': 'US/Eastern',\n",
              " 'LA': 'US/Pacific',\n",
              " 'MA': 'US/Eastern',\n",
              " 'MD': 'US/Eastern',\n",
              " 'ME': 'US/Eastern',\n",
              " 'MI': 'US/Eastern',\n",
              " 'MN': 'US/Central',\n",
              " 'MO': 'US/Central',\n",
              " 'MS': 'US/Central',\n",
              " 'MT': 'US/Pacific',\n",
              " 'NC': 'US/Eastern',\n",
              " 'ND': 'US/Central',\n",
              " 'NE': 'US/Central',\n",
              " 'NH': 'US/Eastern',\n",
              " 'NJ': 'US/Eastern',\n",
              " 'NM': 'US/Mountain',\n",
              " 'NV': 'US/Pacific',\n",
              " 'NY': 'US/Eastern',\n",
              " 'OH': 'US/Eastern',\n",
              " 'OK': 'US/Central',\n",
              " 'OR': 'US/Pacific',\n",
              " 'PA': 'US/Eastern',\n",
              " 'RI': 'US/Eastern',\n",
              " 'SC': 'US/Eastern',\n",
              " 'SD': 'US/Central',\n",
              " 'TN': 'US/Eastern',\n",
              " 'TX': 'US/Central',\n",
              " 'UT': 'US/Mountain',\n",
              " 'VA': 'US/Eastern',\n",
              " 'VT': 'US/Eastern',\n",
              " 'WA': 'US/Pacific',\n",
              " 'WI': 'US/Central',\n",
              " 'WV': 'US/Eastern',\n",
              " 'WY': 'US/Mountain'}"
            ]
          },
          "execution_count": 7,
          "metadata": {},
          "output_type": "execute_result"
        }
      ],
      "source": [
        "state_to_timezone"
      ]
    },
    {
      "cell_type": "code",
      "execution_count": 8,
      "metadata": {
        "id": "Jnwl8Qzyk0y1"
      },
      "outputs": [],
      "source": [
        "dask_df['Timezone'] = dask_df['State'].map(state_to_timezone)"
      ]
    },
    {
      "cell_type": "code",
      "execution_count": 9,
      "metadata": {
        "colab": {
          "base_uri": "https://localhost:8080/"
        },
        "id": "O3SUl4ZFlFMn",
        "outputId": "a47c5d8c-b29c-4442-9990-40b83c01637b"
      },
      "outputs": [
        {
          "data": {
            "text/plain": [
              "0"
            ]
          },
          "execution_count": 9,
          "metadata": {},
          "output_type": "execute_result"
        }
      ],
      "source": [
        "dask_df['Timezone'].isnull().sum()"
      ]
    },
    {
      "cell_type": "code",
      "execution_count": 10,
      "metadata": {
        "id": "1TlmHVcXlxPC"
      },
      "outputs": [],
      "source": [
        "dask_df = dask_df.dropna(thresh=40)"
      ]
    },
    {
      "cell_type": "code",
      "execution_count": 11,
      "metadata": {
        "colab": {
          "base_uri": "https://localhost:8080/"
        },
        "id": "B1EhzODVAvYn",
        "outputId": "0ba11472-c19e-4e17-ddda-bdb439b38081"
      },
      "outputs": [
        {
          "data": {
            "text/plain": [
              "ID                             0\n",
              "Source                         0\n",
              "Severity                       0\n",
              "Start_Time                     0\n",
              "End_Time                       0\n",
              "Start_Lat                      0\n",
              "Start_Lng                      0\n",
              "End_Lat                  3346078\n",
              "End_Lng                  3346078\n",
              "Distance(mi)                   0\n",
              "Description                    5\n",
              "Street                     10591\n",
              "City                         168\n",
              "County                         0\n",
              "State                          0\n",
              "Zipcode                        0\n",
              "Country                        0\n",
              "Timezone                       0\n",
              "Airport_Code                   0\n",
              "Weather_Timestamp              0\n",
              "Temperature(F)             24561\n",
              "Wind_Chill(F)            1852756\n",
              "Humidity(%)                34809\n",
              "Pressure(in)                9101\n",
              "Visibility(mi)             33788\n",
              "Wind_Direction             43795\n",
              "Wind_Speed(mph)           425726\n",
              "Precipitation(in)        2068414\n",
              "Weather_Condition          30532\n",
              "Amenity                        0\n",
              "Bump                           0\n",
              "Crossing                       0\n",
              "Give_Way                       0\n",
              "Junction                       0\n",
              "No_Exit                        0\n",
              "Railway                        0\n",
              "Roundabout                     0\n",
              "Station                        0\n",
              "Stop                           0\n",
              "Traffic_Calming                0\n",
              "Traffic_Signal                 0\n",
              "Turning_Loop                   0\n",
              "Sunrise_Sunset             20024\n",
              "Civil_Twilight             20024\n",
              "Nautical_Twilight          20024\n",
              "Astronomical_Twilight      20024\n",
              "dtype: int64"
            ]
          },
          "execution_count": 11,
          "metadata": {},
          "output_type": "execute_result"
        }
      ],
      "source": [
        "dask_df.isnull().sum()"
      ]
    },
    {
      "cell_type": "code",
      "execution_count": 12,
      "metadata": {
        "id": "BFk2k6nzA5Zb"
      },
      "outputs": [],
      "source": [
        "state_to_airport = dask_df.groupby('State')['Airport_Code'].first().to_dict()"
      ]
    },
    {
      "cell_type": "code",
      "execution_count": 13,
      "metadata": {
        "id": "uUNkDNamFKDK"
      },
      "outputs": [],
      "source": [
        "dask_df['Airport_Code'] = dask_df['State'].map(state_to_airport)"
      ]
    },
    {
      "cell_type": "code",
      "execution_count": 14,
      "metadata": {
        "id": "s4STvFrobtY8"
      },
      "outputs": [
        {
          "name": "stderr",
          "output_type": "stream",
          "text": [
            "/var/folders/hc/jqzdg0t12dgdykygfss25mc80000gn/T/ipykernel_14946/40674042.py:1: FutureWarning: DataFrame.fillna with 'method' is deprecated and will raise in a future version. Use obj.ffill() or obj.bfill() instead.\n",
            "  dask_df.fillna(method='ffill', limit=5, inplace=True)\n",
            "/var/folders/hc/jqzdg0t12dgdykygfss25mc80000gn/T/ipykernel_14946/40674042.py:2: FutureWarning: DataFrame.fillna with 'method' is deprecated and will raise in a future version. Use obj.ffill() or obj.bfill() instead.\n",
            "  dask_df.fillna(method='bfill', limit=5, inplace=True)\n"
          ]
        }
      ],
      "source": [
        "dask_df.fillna(method='ffill', limit=5, inplace=True)\n",
        "dask_df.fillna(method='bfill', limit=5, inplace=True)"
      ]
    },
    {
      "cell_type": "code",
      "execution_count": 15,
      "metadata": {},
      "outputs": [
        {
          "data": {
            "text/plain": [
              "ID                             0\n",
              "Source                         0\n",
              "Severity                       0\n",
              "Start_Time                     0\n",
              "End_Time                       0\n",
              "Start_Lat                      0\n",
              "Start_Lng                      0\n",
              "End_Lat                  3346073\n",
              "End_Lng                  3346073\n",
              "Distance(mi)                   0\n",
              "Description                    0\n",
              "Street                         0\n",
              "City                           0\n",
              "County                         0\n",
              "State                          0\n",
              "Zipcode                        0\n",
              "Country                        0\n",
              "Timezone                       0\n",
              "Airport_Code                   0\n",
              "Weather_Timestamp              0\n",
              "Temperature(F)                 0\n",
              "Wind_Chill(F)            1385465\n",
              "Humidity(%)                    0\n",
              "Pressure(in)                   9\n",
              "Visibility(mi)                 7\n",
              "Wind_Direction                 2\n",
              "Wind_Speed(mph)             6388\n",
              "Precipitation(in)        1334078\n",
              "Weather_Condition              0\n",
              "Amenity                        0\n",
              "Bump                           0\n",
              "Crossing                       0\n",
              "Give_Way                       0\n",
              "Junction                       0\n",
              "No_Exit                        0\n",
              "Railway                        0\n",
              "Roundabout                     0\n",
              "Station                        0\n",
              "Stop                           0\n",
              "Traffic_Calming                0\n",
              "Traffic_Signal                 0\n",
              "Turning_Loop                   0\n",
              "Sunrise_Sunset                 0\n",
              "Civil_Twilight                 0\n",
              "Nautical_Twilight              0\n",
              "Astronomical_Twilight          0\n",
              "dtype: int64"
            ]
          },
          "execution_count": 15,
          "metadata": {},
          "output_type": "execute_result"
        }
      ],
      "source": [
        "dask_df.isnull().sum()"
      ]
    },
    {
      "cell_type": "code",
      "execution_count": 16,
      "metadata": {},
      "outputs": [],
      "source": [
        "dask_df.drop(columns=['End_Lat', 'End_Lng'],inplace= True)\n",
        "dask_df.dropna(subset=['Wind_Chill(F)','Wind_Speed(mph)','Precipitation(in)'],inplace = True)"
      ]
    },
    {
      "cell_type": "code",
      "execution_count": 17,
      "metadata": {},
      "outputs": [
        {
          "data": {
            "text/plain": [
              "ID                       0\n",
              "Source                   0\n",
              "Severity                 0\n",
              "Start_Time               0\n",
              "End_Time                 0\n",
              "Start_Lat                0\n",
              "Start_Lng                0\n",
              "Distance(mi)             0\n",
              "Description              0\n",
              "Street                   0\n",
              "City                     0\n",
              "County                   0\n",
              "State                    0\n",
              "Zipcode                  0\n",
              "Country                  0\n",
              "Timezone                 0\n",
              "Airport_Code             0\n",
              "Weather_Timestamp        0\n",
              "Temperature(F)           0\n",
              "Wind_Chill(F)            0\n",
              "Humidity(%)              0\n",
              "Pressure(in)             9\n",
              "Visibility(mi)           7\n",
              "Wind_Direction           0\n",
              "Wind_Speed(mph)          0\n",
              "Precipitation(in)        0\n",
              "Weather_Condition        0\n",
              "Amenity                  0\n",
              "Bump                     0\n",
              "Crossing                 0\n",
              "Give_Way                 0\n",
              "Junction                 0\n",
              "No_Exit                  0\n",
              "Railway                  0\n",
              "Roundabout               0\n",
              "Station                  0\n",
              "Stop                     0\n",
              "Traffic_Calming          0\n",
              "Traffic_Signal           0\n",
              "Turning_Loop             0\n",
              "Sunrise_Sunset           0\n",
              "Civil_Twilight           0\n",
              "Nautical_Twilight        0\n",
              "Astronomical_Twilight    0\n",
              "dtype: int64"
            ]
          },
          "execution_count": 17,
          "metadata": {},
          "output_type": "execute_result"
        }
      ],
      "source": [
        "dask_df.isnull().sum()"
      ]
    },
    {
      "cell_type": "code",
      "execution_count": 18,
      "metadata": {},
      "outputs": [
        {
          "data": {
            "text/plain": [
              "Severity\n",
              "2    4890121\n",
              "3     726683\n",
              "4     151904\n",
              "1      65834\n",
              "Name: count, dtype: int64"
            ]
          },
          "execution_count": 18,
          "metadata": {},
          "output_type": "execute_result"
        }
      ],
      "source": [
        "# check for the imbalance in the data\n",
        "dask_df['Severity'].value_counts()"
      ]
    },
    {
      "cell_type": "code",
      "execution_count": 19,
      "metadata": {},
      "outputs": [
        {
          "data": {
            "text/plain": [
              "Index(['ID', 'Source', 'Severity', 'Start_Time', 'End_Time', 'Start_Lat',\n",
              "       'Start_Lng', 'Distance(mi)', 'Description', 'Street', 'City', 'County',\n",
              "       'State', 'Zipcode', 'Country', 'Timezone', 'Airport_Code',\n",
              "       'Weather_Timestamp', 'Temperature(F)', 'Wind_Chill(F)', 'Humidity(%)',\n",
              "       'Pressure(in)', 'Visibility(mi)', 'Wind_Direction', 'Wind_Speed(mph)',\n",
              "       'Precipitation(in)', 'Weather_Condition', 'Amenity', 'Bump', 'Crossing',\n",
              "       'Give_Way', 'Junction', 'No_Exit', 'Railway', 'Roundabout', 'Station',\n",
              "       'Stop', 'Traffic_Calming', 'Traffic_Signal', 'Turning_Loop',\n",
              "       'Sunrise_Sunset', 'Civil_Twilight', 'Nautical_Twilight',\n",
              "       'Astronomical_Twilight'],\n",
              "      dtype='object')"
            ]
          },
          "execution_count": 19,
          "metadata": {},
          "output_type": "execute_result"
        }
      ],
      "source": [
        "# print the column names\n",
        "dask_df.columns"
      ]
    },
    {
      "cell_type": "code",
      "execution_count": 20,
      "metadata": {},
      "outputs": [
        {
          "data": {
            "text/plain": [
              "0    2016-02-08 05:46:00\n",
              "1    2016-02-08 06:07:59\n",
              "2    2016-02-08 06:49:27\n",
              "3    2016-02-08 07:23:34\n",
              "4    2016-02-08 07:39:07\n",
              "Name: Start_Time, dtype: object"
            ]
          },
          "execution_count": 20,
          "metadata": {},
          "output_type": "execute_result"
        }
      ],
      "source": [
        "# print the first few time values\n",
        "dask_df['Start_Time'].head()"
      ]
    },
    {
      "cell_type": "code",
      "execution_count": 21,
      "metadata": {},
      "outputs": [
        {
          "data": {
            "text/plain": [
              "array(['2016-02-08 05:46:00', '2016-02-08 06:07:59',\n",
              "       '2016-02-08 06:49:27', ..., '2019-08-23 19:11:30',\n",
              "       '2019-08-23 19:00:21', '2019-08-23 18:52:06'], dtype=object)"
            ]
          },
          "execution_count": 21,
          "metadata": {},
          "output_type": "execute_result"
        }
      ],
      "source": [
        "# display all the unique values in the column 'Start_Time'\n",
        "dask_df['Start_Time'].unique()"
      ]
    },
    {
      "cell_type": "code",
      "execution_count": 22,
      "metadata": {},
      "outputs": [],
      "source": [
        "# Second value is the month\n",
        "# Access the month value\n",
        "from datetime import datetime\n",
        "import pandas as pd\n",
        "time_dask_df = pd.Series(dask_df['Start_Time'])\n",
        "time_dask_df = time_dask_df.str.slice(0,10)\n",
        "time_dask_df = pd.to_datetime(time_dask_df,errors='coerce')\n",
        "months = time_dask_df.dt.month"
      ]
    },
    {
      "cell_type": "code",
      "execution_count": 23,
      "metadata": {},
      "outputs": [],
      "source": [
        "# add a new column 'Month' to the dataframe\n",
        "dask_df['Month'] = months"
      ]
    },
    {
      "cell_type": "code",
      "execution_count": 24,
      "metadata": {},
      "outputs": [],
      "source": [
        "# assign the four seasons based on the month value\n",
        "dask_df['Season'] = 'Winter'\n",
        "dask_df.loc[dask_df['Month'].isin([3,4,5]),'Season'] = 'Spring'\n",
        "dask_df.loc[dask_df['Month'].isin([6,7,8]),'Season'] = 'Summer'\n",
        "dask_df.loc[dask_df['Month'].isin([9,10,11]),'Season'] = 'Fall'"
      ]
    },
    {
      "cell_type": "code",
      "execution_count": 25,
      "metadata": {},
      "outputs": [
        {
          "name": "stdout",
          "output_type": "stream",
          "text": [
            "ID                       0\n",
            "Source                   0\n",
            "Severity                 0\n",
            "Start_Time               0\n",
            "End_Time                 0\n",
            "Start_Lat                0\n",
            "Start_Lng                0\n",
            "Distance(mi)             0\n",
            "Description              0\n",
            "Street                   0\n",
            "City                     0\n",
            "County                   0\n",
            "State                    0\n",
            "Zipcode                  0\n",
            "Country                  0\n",
            "Timezone                 0\n",
            "Airport_Code             0\n",
            "Weather_Timestamp        0\n",
            "Temperature(F)           0\n",
            "Wind_Chill(F)            0\n",
            "Humidity(%)              0\n",
            "Pressure(in)             9\n",
            "Visibility(mi)           7\n",
            "Wind_Direction           0\n",
            "Wind_Speed(mph)          0\n",
            "Precipitation(in)        0\n",
            "Weather_Condition        0\n",
            "Amenity                  0\n",
            "Bump                     0\n",
            "Crossing                 0\n",
            "Give_Way                 0\n",
            "Junction                 0\n",
            "No_Exit                  0\n",
            "Railway                  0\n",
            "Roundabout               0\n",
            "Station                  0\n",
            "Stop                     0\n",
            "Traffic_Calming          0\n",
            "Traffic_Signal           0\n",
            "Turning_Loop             0\n",
            "Sunrise_Sunset           0\n",
            "Civil_Twilight           0\n",
            "Nautical_Twilight        0\n",
            "Astronomical_Twilight    0\n",
            "Month                    0\n",
            "Season                   0\n",
            "dtype: int64\n",
            "(5834542, 46)\n"
          ]
        }
      ],
      "source": [
        "# check for null values\n",
        "print(dask_df.isnull().sum())\n",
        "print(dask_df.shape)"
      ]
    },
    {
      "cell_type": "code",
      "execution_count": 26,
      "metadata": {},
      "outputs": [
        {
          "data": {
            "text/plain": [
              "Season\n",
              "Winter    1832435\n",
              "Fall      1513142\n",
              "Spring    1301660\n",
              "Summer    1187305\n",
              "Name: count, dtype: int64"
            ]
          },
          "execution_count": 26,
          "metadata": {},
          "output_type": "execute_result"
        }
      ],
      "source": [
        "# count the data points in each season\n",
        "dask_df['Season'].value_counts()"
      ]
    },
    {
      "cell_type": "code",
      "execution_count": 27,
      "metadata": {},
      "outputs": [
        {
          "data": {
            "text/plain": [
              "Season  Severity\n",
              "Fall    2           1310228\n",
              "        3            164413\n",
              "        4             35730\n",
              "        1              2771\n",
              "Spring  2           1042968\n",
              "        3            190068\n",
              "        4             38016\n",
              "        1             30608\n",
              "Summer  2            942667\n",
              "        3            180642\n",
              "        4             32001\n",
              "        1             31995\n",
              "Winter  2           1594258\n",
              "        3            191560\n",
              "        4             46157\n",
              "        1               460\n",
              "Name: count, dtype: int64"
            ]
          },
          "execution_count": 27,
          "metadata": {},
          "output_type": "execute_result"
        }
      ],
      "source": [
        "# count severity values in each season\n",
        "dask_df.groupby('Season')['Severity'].value_counts()"
      ]
    },
    {
      "cell_type": "code",
      "execution_count": 28,
      "metadata": {},
      "outputs": [
        {
          "data": {
            "text/plain": [
              "Index(['ID', 'Source', 'Severity', 'Start_Time', 'End_Time', 'Start_Lat',\n",
              "       'Start_Lng', 'Distance(mi)', 'Description', 'Street', 'City', 'County',\n",
              "       'State', 'Zipcode', 'Country', 'Timezone', 'Airport_Code',\n",
              "       'Weather_Timestamp', 'Temperature(F)', 'Wind_Chill(F)', 'Humidity(%)',\n",
              "       'Pressure(in)', 'Visibility(mi)', 'Wind_Direction', 'Wind_Speed(mph)',\n",
              "       'Precipitation(in)', 'Weather_Condition', 'Amenity', 'Bump', 'Crossing',\n",
              "       'Give_Way', 'Junction', 'No_Exit', 'Railway', 'Roundabout', 'Station',\n",
              "       'Stop', 'Traffic_Calming', 'Traffic_Signal', 'Turning_Loop',\n",
              "       'Sunrise_Sunset', 'Civil_Twilight', 'Nautical_Twilight',\n",
              "       'Astronomical_Twilight', 'Month', 'Season'],\n",
              "      dtype='object')"
            ]
          },
          "execution_count": 28,
          "metadata": {},
          "output_type": "execute_result"
        }
      ],
      "source": [
        "# display all the column names\n",
        "dask_df.columns"
      ]
    },
    {
      "cell_type": "code",
      "execution_count": 29,
      "metadata": {},
      "outputs": [
        {
          "data": {
            "text/plain": [
              "Severity\n",
              "2    4890121\n",
              "3     726683\n",
              "4     151904\n",
              "1      65834\n",
              "Name: count, dtype: int64"
            ]
          },
          "execution_count": 29,
          "metadata": {},
          "output_type": "execute_result"
        }
      ],
      "source": [
        "# check for the imbalance in the data\n",
        "dask_df['Severity'].value_counts()"
      ]
    },
    {
      "cell_type": "code",
      "execution_count": 30,
      "metadata": {},
      "outputs": [
        {
          "data": {
            "text/plain": [
              "Severity\n",
              "2    83.813280\n",
              "3    12.454842\n",
              "4     2.603529\n",
              "1     1.128349\n",
              "Name: count, dtype: float64"
            ]
          },
          "execution_count": 30,
          "metadata": {},
          "output_type": "execute_result"
        }
      ],
      "source": [
        "# check the ratio of severity values\n",
        "(dask_df['Severity'].value_counts()/dask_df.shape[0])*100"
      ]
    },
    {
      "cell_type": "code",
      "execution_count": 31,
      "metadata": {},
      "outputs": [
        {
          "name": "stdout",
          "output_type": "stream",
          "text": [
            "Severity\n",
            "2    4890121\n",
            "3     726683\n",
            "4     151904\n",
            "Name: count, dtype: int64\n"
          ]
        }
      ],
      "source": [
        "# create new data frame\n",
        "dask_df_new = dask_df\n",
        "# drop the severity 1 data points\n",
        "dask_df_new = dask_df_new[dask_df_new['Severity']!=1]\n",
        "# check the count of severity values\n",
        "print(dask_df_new['Severity'].value_counts())\n",
        "# store the severity 1 and severity 4 data points in a new dataframe\n",
        "dask_df_1 = dask_df[dask_df['Severity']==1]"
      ]
    },
    {
      "cell_type": "code",
      "execution_count": 32,
      "metadata": {},
      "outputs": [
        {
          "name": "stdout",
          "output_type": "stream",
          "text": [
            "Severity\n",
            "2    151904\n",
            "3    151904\n",
            "4    151904\n",
            "Name: count, dtype: int64\n"
          ]
        }
      ],
      "source": [
        "# undersample the new data frame data_df_new\n",
        "# use randomunder sampler\n",
        "from imblearn.under_sampling import RandomUnderSampler\n",
        "rus = RandomUnderSampler(sampling_strategy='auto',random_state=412)\n",
        "\n",
        "# split the data into features and target\n",
        "X = dask_df_new.drop(columns=['Severity'])\n",
        "y = dask_df_new['Severity']\n",
        "\n",
        "# perform undersampling\n",
        "X_res, y_res = rus.fit_resample(X, y)\n",
        "\n",
        "# check the count of severity values\n",
        "print(y_res.value_counts())"
      ]
    },
    {
      "cell_type": "code",
      "execution_count": 33,
      "metadata": {},
      "outputs": [
        {
          "name": "stdout",
          "output_type": "stream",
          "text": [
            "Severity\n",
            "2    151904\n",
            "3    151904\n",
            "4    151904\n",
            "1     65834\n",
            "Name: count, dtype: int64\n"
          ]
        },
        {
          "data": {
            "text/html": [
              "<div>\n",
              "<style scoped>\n",
              "    .dataframe tbody tr th:only-of-type {\n",
              "        vertical-align: middle;\n",
              "    }\n",
              "\n",
              "    .dataframe tbody tr th {\n",
              "        vertical-align: top;\n",
              "    }\n",
              "\n",
              "    .dataframe thead th {\n",
              "        text-align: right;\n",
              "    }\n",
              "</style>\n",
              "<table border=\"1\" class=\"dataframe\">\n",
              "  <thead>\n",
              "    <tr style=\"text-align: right;\">\n",
              "      <th></th>\n",
              "      <th>ID</th>\n",
              "      <th>Source</th>\n",
              "      <th>Start_Time</th>\n",
              "      <th>End_Time</th>\n",
              "      <th>Start_Lat</th>\n",
              "      <th>Start_Lng</th>\n",
              "      <th>Distance(mi)</th>\n",
              "      <th>Description</th>\n",
              "      <th>Street</th>\n",
              "      <th>City</th>\n",
              "      <th>...</th>\n",
              "      <th>Traffic_Calming</th>\n",
              "      <th>Traffic_Signal</th>\n",
              "      <th>Turning_Loop</th>\n",
              "      <th>Sunrise_Sunset</th>\n",
              "      <th>Civil_Twilight</th>\n",
              "      <th>Nautical_Twilight</th>\n",
              "      <th>Astronomical_Twilight</th>\n",
              "      <th>Month</th>\n",
              "      <th>Season</th>\n",
              "      <th>Severity</th>\n",
              "    </tr>\n",
              "  </thead>\n",
              "  <tbody>\n",
              "    <tr>\n",
              "      <th>79249</th>\n",
              "      <td>A-1470157</td>\n",
              "      <td>Source3</td>\n",
              "      <td>2020-05-14 19:51:44</td>\n",
              "      <td>2020-05-14 20:46:51</td>\n",
              "      <td>34.774570</td>\n",
              "      <td>-118.502007</td>\n",
              "      <td>0.000</td>\n",
              "      <td>Accident on CA-138 Avenue D at 210th St.</td>\n",
              "      <td>210th St W</td>\n",
              "      <td>Lancaster</td>\n",
              "      <td>...</td>\n",
              "      <td>False</td>\n",
              "      <td>False</td>\n",
              "      <td>False</td>\n",
              "      <td>Night</td>\n",
              "      <td>Day</td>\n",
              "      <td>Day</td>\n",
              "      <td>Day</td>\n",
              "      <td>5</td>\n",
              "      <td>Spring</td>\n",
              "      <td>2</td>\n",
              "    </tr>\n",
              "    <tr>\n",
              "      <th>45989</th>\n",
              "      <td>A-5408062</td>\n",
              "      <td>Source1</td>\n",
              "      <td>2022-10-10 16:12:28.000000000</td>\n",
              "      <td>2022-10-10 16:25:03.000000000</td>\n",
              "      <td>35.027043</td>\n",
              "      <td>-85.366570</td>\n",
              "      <td>1.309</td>\n",
              "      <td>Slow traffic on I-24 W from Browns Ferry Rd/Ex...</td>\n",
              "      <td>I-24</td>\n",
              "      <td>Chattanooga</td>\n",
              "      <td>...</td>\n",
              "      <td>False</td>\n",
              "      <td>False</td>\n",
              "      <td>False</td>\n",
              "      <td>Day</td>\n",
              "      <td>Day</td>\n",
              "      <td>Day</td>\n",
              "      <td>Day</td>\n",
              "      <td>10</td>\n",
              "      <td>Fall</td>\n",
              "      <td>2</td>\n",
              "    </tr>\n",
              "    <tr>\n",
              "      <th>162379</th>\n",
              "      <td>A-7593193</td>\n",
              "      <td>Source1</td>\n",
              "      <td>2018-04-12 06:42:14</td>\n",
              "      <td>2018-04-12 12:42:14</td>\n",
              "      <td>34.005980</td>\n",
              "      <td>-117.961030</td>\n",
              "      <td>0.205</td>\n",
              "      <td>At Hacienda Blvd - Accident. Lane blocked.</td>\n",
              "      <td>Pomona Fwy W</td>\n",
              "      <td>Hacienda Heights</td>\n",
              "      <td>...</td>\n",
              "      <td>False</td>\n",
              "      <td>False</td>\n",
              "      <td>False</td>\n",
              "      <td>Day</td>\n",
              "      <td>Day</td>\n",
              "      <td>Day</td>\n",
              "      <td>Day</td>\n",
              "      <td>4</td>\n",
              "      <td>Spring</td>\n",
              "      <td>2</td>\n",
              "    </tr>\n",
              "    <tr>\n",
              "      <th>18574</th>\n",
              "      <td>A-3847115</td>\n",
              "      <td>Source1</td>\n",
              "      <td>2022-09-23 16:28:41</td>\n",
              "      <td>2022-09-23 17:43:42</td>\n",
              "      <td>37.524482</td>\n",
              "      <td>-77.336083</td>\n",
              "      <td>0.071</td>\n",
              "      <td>Incident on SPRINGER DR near GILMOUR RD Drive ...</td>\n",
              "      <td>Springer Dr</td>\n",
              "      <td>Sandston</td>\n",
              "      <td>...</td>\n",
              "      <td>False</td>\n",
              "      <td>False</td>\n",
              "      <td>False</td>\n",
              "      <td>Day</td>\n",
              "      <td>Day</td>\n",
              "      <td>Day</td>\n",
              "      <td>Day</td>\n",
              "      <td>9</td>\n",
              "      <td>Fall</td>\n",
              "      <td>2</td>\n",
              "    </tr>\n",
              "    <tr>\n",
              "      <th>60358</th>\n",
              "      <td>A-3735454</td>\n",
              "      <td>Source1</td>\n",
              "      <td>2022-04-20 17:30:04.000000000</td>\n",
              "      <td>2022-04-20 18:46:35.000000000</td>\n",
              "      <td>29.993915</td>\n",
              "      <td>-90.094649</td>\n",
              "      <td>0.860</td>\n",
              "      <td>Incident on I-610 WB near ST BERNARD AVE EXIT ...</td>\n",
              "      <td>I-610 W</td>\n",
              "      <td>New Orleans</td>\n",
              "      <td>...</td>\n",
              "      <td>False</td>\n",
              "      <td>False</td>\n",
              "      <td>False</td>\n",
              "      <td>Day</td>\n",
              "      <td>Day</td>\n",
              "      <td>Day</td>\n",
              "      <td>Day</td>\n",
              "      <td>4</td>\n",
              "      <td>Spring</td>\n",
              "      <td>2</td>\n",
              "    </tr>\n",
              "  </tbody>\n",
              "</table>\n",
              "<p>5 rows × 46 columns</p>\n",
              "</div>"
            ],
            "text/plain": [
              "               ID   Source                     Start_Time  \\\n",
              "79249   A-1470157  Source3            2020-05-14 19:51:44   \n",
              "45989   A-5408062  Source1  2022-10-10 16:12:28.000000000   \n",
              "162379  A-7593193  Source1            2018-04-12 06:42:14   \n",
              "18574   A-3847115  Source1            2022-09-23 16:28:41   \n",
              "60358   A-3735454  Source1  2022-04-20 17:30:04.000000000   \n",
              "\n",
              "                             End_Time  Start_Lat   Start_Lng  Distance(mi)  \\\n",
              "79249             2020-05-14 20:46:51  34.774570 -118.502007         0.000   \n",
              "45989   2022-10-10 16:25:03.000000000  35.027043  -85.366570         1.309   \n",
              "162379            2018-04-12 12:42:14  34.005980 -117.961030         0.205   \n",
              "18574             2022-09-23 17:43:42  37.524482  -77.336083         0.071   \n",
              "60358   2022-04-20 18:46:35.000000000  29.993915  -90.094649         0.860   \n",
              "\n",
              "                                              Description        Street  \\\n",
              "79249            Accident on CA-138 Avenue D at 210th St.    210th St W   \n",
              "45989   Slow traffic on I-24 W from Browns Ferry Rd/Ex...          I-24   \n",
              "162379         At Hacienda Blvd - Accident. Lane blocked.  Pomona Fwy W   \n",
              "18574   Incident on SPRINGER DR near GILMOUR RD Drive ...   Springer Dr   \n",
              "60358   Incident on I-610 WB near ST BERNARD AVE EXIT ...       I-610 W   \n",
              "\n",
              "                    City  ... Traffic_Calming Traffic_Signal Turning_Loop  \\\n",
              "79249          Lancaster  ...           False          False        False   \n",
              "45989        Chattanooga  ...           False          False        False   \n",
              "162379  Hacienda Heights  ...           False          False        False   \n",
              "18574           Sandston  ...           False          False        False   \n",
              "60358        New Orleans  ...           False          False        False   \n",
              "\n",
              "       Sunrise_Sunset Civil_Twilight Nautical_Twilight Astronomical_Twilight  \\\n",
              "79249           Night            Day               Day                   Day   \n",
              "45989             Day            Day               Day                   Day   \n",
              "162379            Day            Day               Day                   Day   \n",
              "18574             Day            Day               Day                   Day   \n",
              "60358             Day            Day               Day                   Day   \n",
              "\n",
              "        Month  Season  Severity  \n",
              "79249       5  Spring         2  \n",
              "45989      10    Fall         2  \n",
              "162379      4  Spring         2  \n",
              "18574       9    Fall         2  \n",
              "60358       4  Spring         2  \n",
              "\n",
              "[5 rows x 46 columns]"
            ]
          },
          "execution_count": 33,
          "metadata": {},
          "output_type": "execute_result"
        }
      ],
      "source": [
        "# form a new data frame with the undersampled data\n",
        "dask_df_new = pd.DataFrame(X_res,columns=X.columns)\n",
        "dask_df_new['Severity'] = y_res\n",
        "\n",
        "# add the severity 1 data points to the new data frame\n",
        "import pandas as pd\n",
        "dask_df_new = pd.concat([dask_df_new,dask_df_1],axis=0)\n",
        "\n",
        "# check the count of severity values\n",
        "print(dask_df_new['Severity'].value_counts())\n",
        "\n",
        "# print the head of the data frame\n",
        "dask_df_new.head()"
      ]
    },
    {
      "cell_type": "code",
      "execution_count": 63,
      "metadata": {},
      "outputs": [
        {
          "name": "stdout",
          "output_type": "stream",
          "text": [
            "Severity\n",
            "1    65834\n",
            "2    65834\n",
            "3    65834\n",
            "4    65834\n",
            "Name: count, dtype: int64\n"
          ]
        }
      ],
      "source": [
        "# undersample the data\n",
        "from imblearn.under_sampling import RandomUnderSampler\n",
        "rus = RandomUnderSampler(sampling_strategy='auto',random_state=412)\n",
        "\n",
        "# split the data into features and labels\n",
        "X = dask_df.drop(columns=['Severity'])\n",
        "y = dask_df['Severity']\n",
        "\n",
        "# perform undersampling\n",
        "X_res_2, y_res_2 = rus.fit_resample(X, y)\n",
        "\n",
        "# check the count of severity values\n",
        "print(y_res_2.value_counts())"
      ]
    },
    {
      "cell_type": "code",
      "execution_count": 35,
      "metadata": {},
      "outputs": [
        {
          "name": "stdout",
          "output_type": "stream",
          "text": [
            "Severity\n",
            "1    65834\n",
            "2    65834\n",
            "Name: count, dtype: int64\n",
            "Severity\n",
            "3    151904\n",
            "4    151904\n",
            "1     65834\n",
            "2     65834\n",
            "Name: count, dtype: int64\n",
            "(151904, 46)\n"
          ]
        }
      ],
      "source": [
        "# Undersampling strategy 1 \n",
        "df_und_1 = dask_df_new\n",
        "\n",
        "# Undersampling strategy 2 - using X_res and y_res\n",
        "df_und_2 = pd.DataFrame(X_res_2,columns=X.columns)\n",
        "df_und_2['Severity'] = y_res_2\n",
        "df_und_2.shape\n",
        "\n",
        "# Undersampling strategy 3\n",
        "# Bring the severity 2 to the severity 3 level\n",
        "df_und_3 = dask_df_new\n",
        "# store and drop severity 3 data points\n",
        "df_und_3_3 = df_und_3[df_und_3['Severity']==3]\n",
        "df_und_3 = df_und_3[df_und_3['Severity']!=3]\n",
        "# store and drop severity 4 data points\n",
        "df_und_3_4 = df_und_3[df_und_3['Severity']==4]\n",
        "df_und_3 = df_und_3[df_und_3['Severity']!=4]\n",
        "\n",
        "# undersample the severity 2 data points\n",
        "from imblearn.under_sampling import RandomUnderSampler\n",
        "rus = RandomUnderSampler(sampling_strategy='auto',random_state=412)\n",
        "# split the data into features and labels\n",
        "X = df_und_3.drop(columns=['Severity'])\n",
        "y = df_und_3['Severity']\n",
        "# perform undersampling\n",
        "X_res, y_res = rus.fit_resample(X, y)\n",
        "# check the count of severity values\n",
        "print(y_res.value_counts())\n",
        "\n",
        "# form a new data frame with the undersampled data\n",
        "df_und_3 = pd.DataFrame(X_res,columns=X.columns)\n",
        "df_und_3['Severity'] = y_res\n",
        "\n",
        "# add the severity 3 and severity 4 data points to the new data frame\n",
        "df_und_3 = pd.concat([df_und_3,df_und_3_3,df_und_3_4],axis=0)\n",
        "\n",
        "# check the count of severity values\n",
        "print(df_und_3['Severity'].value_counts())\n",
        "\n",
        "print(df_und_3_3.shape)"
      ]
    },
    {
      "cell_type": "code",
      "execution_count": 36,
      "metadata": {},
      "outputs": [
        {
          "name": "stdout",
          "output_type": "stream",
          "text": [
            "Severity\n",
            "2    151904\n",
            "3    151904\n",
            "4    151904\n",
            "1     65834\n",
            "Name: count, dtype: int64\n",
            "Severity\n",
            "1    65834\n",
            "2    65834\n",
            "3    65834\n",
            "4    65834\n",
            "Name: count, dtype: int64\n",
            "Severity\n",
            "3    151904\n",
            "4    151904\n",
            "1     65834\n",
            "2     65834\n",
            "Name: count, dtype: int64\n"
          ]
        }
      ],
      "source": [
        "# Checking the three undersampled data frames\n",
        "# Undersampling strategy 1\n",
        "print(df_und_1['Severity'].value_counts())\n",
        "# Undersampling strategy 2\n",
        "print(df_und_2['Severity'].value_counts())\n",
        "# Undersampling strategy 3\n",
        "print(df_und_3['Severity'].value_counts())"
      ]
    },
    {
      "cell_type": "code",
      "execution_count": 37,
      "metadata": {},
      "outputs": [
        {
          "name": "stdout",
          "output_type": "stream",
          "text": [
            "Index(['ID', 'Source', 'Start_Time', 'End_Time', 'Start_Lat', 'Start_Lng',\n",
            "       'Distance(mi)', 'Description', 'Street', 'City', 'County', 'State',\n",
            "       'Zipcode', 'Country', 'Timezone', 'Airport_Code', 'Weather_Timestamp',\n",
            "       'Temperature(F)', 'Wind_Chill(F)', 'Humidity(%)', 'Pressure(in)',\n",
            "       'Visibility(mi)', 'Wind_Direction', 'Wind_Speed(mph)',\n",
            "       'Precipitation(in)', 'Weather_Condition', 'Amenity', 'Bump', 'Crossing',\n",
            "       'Give_Way', 'Junction', 'No_Exit', 'Railway', 'Roundabout', 'Station',\n",
            "       'Stop', 'Traffic_Calming', 'Traffic_Signal', 'Turning_Loop',\n",
            "       'Sunrise_Sunset', 'Civil_Twilight', 'Nautical_Twilight',\n",
            "       'Astronomical_Twilight', 'Month', 'Season', 'Severity'],\n",
            "      dtype='object')\n",
            "Index(['ID', 'Source', 'Start_Time', 'End_Time', 'Start_Lat', 'Start_Lng',\n",
            "       'Distance(mi)', 'Description', 'Street', 'City', 'County', 'State',\n",
            "       'Zipcode', 'Country', 'Timezone', 'Airport_Code', 'Weather_Timestamp',\n",
            "       'Temperature(F)', 'Wind_Chill(F)', 'Humidity(%)', 'Pressure(in)',\n",
            "       'Visibility(mi)', 'Wind_Direction', 'Wind_Speed(mph)',\n",
            "       'Precipitation(in)', 'Weather_Condition', 'Amenity', 'Bump', 'Crossing',\n",
            "       'Give_Way', 'Junction', 'No_Exit', 'Railway', 'Roundabout', 'Station',\n",
            "       'Stop', 'Traffic_Calming', 'Traffic_Signal', 'Turning_Loop',\n",
            "       'Sunrise_Sunset', 'Civil_Twilight', 'Nautical_Twilight',\n",
            "       'Astronomical_Twilight', 'Month', 'Season', 'Severity'],\n",
            "      dtype='object')\n",
            "Index(['ID', 'Source', 'Start_Time', 'End_Time', 'Start_Lat', 'Start_Lng',\n",
            "       'Distance(mi)', 'Description', 'Street', 'City', 'County', 'State',\n",
            "       'Zipcode', 'Country', 'Timezone', 'Airport_Code', 'Weather_Timestamp',\n",
            "       'Temperature(F)', 'Wind_Chill(F)', 'Humidity(%)', 'Pressure(in)',\n",
            "       'Visibility(mi)', 'Wind_Direction', 'Wind_Speed(mph)',\n",
            "       'Precipitation(in)', 'Weather_Condition', 'Amenity', 'Bump', 'Crossing',\n",
            "       'Give_Way', 'Junction', 'No_Exit', 'Railway', 'Roundabout', 'Station',\n",
            "       'Stop', 'Traffic_Calming', 'Traffic_Signal', 'Turning_Loop',\n",
            "       'Sunrise_Sunset', 'Civil_Twilight', 'Nautical_Twilight',\n",
            "       'Astronomical_Twilight', 'Month', 'Season', 'Severity'],\n",
            "      dtype='object')\n"
          ]
        }
      ],
      "source": [
        "# display the features for all the three undersampled data frames\n",
        "print(df_und_1.columns)\n",
        "print(df_und_2.columns)\n",
        "print(df_und_3.columns)"
      ]
    },
    {
      "cell_type": "code",
      "execution_count": 38,
      "metadata": {},
      "outputs": [
        {
          "name": "stdout",
          "output_type": "stream",
          "text": [
            "               ID   Source                     Start_Time  \\\n",
            "79249   A-1470157  Source3            2020-05-14 19:51:44   \n",
            "45989   A-5408062  Source1  2022-10-10 16:12:28.000000000   \n",
            "162379  A-7593193  Source1            2018-04-12 06:42:14   \n",
            "18574   A-3847115  Source1            2022-09-23 16:28:41   \n",
            "60358   A-3735454  Source1  2022-04-20 17:30:04.000000000   \n",
            "\n",
            "                             End_Time  Start_Lat   Start_Lng  Distance(mi)  \\\n",
            "79249             2020-05-14 20:46:51  34.774570 -118.502007         0.000   \n",
            "45989   2022-10-10 16:25:03.000000000  35.027043  -85.366570         1.309   \n",
            "162379            2018-04-12 12:42:14  34.005980 -117.961030         0.205   \n",
            "18574             2022-09-23 17:43:42  37.524482  -77.336083         0.071   \n",
            "60358   2022-04-20 18:46:35.000000000  29.993915  -90.094649         0.860   \n",
            "\n",
            "                                              Description        Street  \\\n",
            "79249            Accident on CA-138 Avenue D at 210th St.    210th St W   \n",
            "45989   Slow traffic on I-24 W from Browns Ferry Rd/Ex...          I-24   \n",
            "162379         At Hacienda Blvd - Accident. Lane blocked.  Pomona Fwy W   \n",
            "18574   Incident on SPRINGER DR near GILMOUR RD Drive ...   Springer Dr   \n",
            "60358   Incident on I-610 WB near ST BERNARD AVE EXIT ...       I-610 W   \n",
            "\n",
            "                    City  ... Traffic_Calming Traffic_Signal Turning_Loop  \\\n",
            "79249          Lancaster  ...           False          False        False   \n",
            "45989        Chattanooga  ...           False          False        False   \n",
            "162379  Hacienda Heights  ...           False          False        False   \n",
            "18574           Sandston  ...           False          False        False   \n",
            "60358        New Orleans  ...           False          False        False   \n",
            "\n",
            "       Sunrise_Sunset Civil_Twilight Nautical_Twilight Astronomical_Twilight  \\\n",
            "79249           Night            Day               Day                   Day   \n",
            "45989             Day            Day               Day                   Day   \n",
            "162379            Day            Day               Day                   Day   \n",
            "18574             Day            Day               Day                   Day   \n",
            "60358             Day            Day               Day                   Day   \n",
            "\n",
            "        Month  Season  Severity  \n",
            "79249       5  Spring         2  \n",
            "45989      10    Fall         2  \n",
            "162379      4  Spring         2  \n",
            "18574       9    Fall         2  \n",
            "60358       4  Spring         2  \n",
            "\n",
            "[5 rows x 46 columns]\n"
          ]
        }
      ],
      "source": [
        "# head of the undersampled data frames\n",
        "print(df_und_1.head())"
      ]
    },
    {
      "cell_type": "code",
      "execution_count": 39,
      "metadata": {},
      "outputs": [
        {
          "name": "stdout",
          "output_type": "stream",
          "text": [
            "ID                       0\n",
            "Source                   0\n",
            "Start_Time               0\n",
            "End_Time                 0\n",
            "Start_Lat                0\n",
            "Start_Lng                0\n",
            "Distance(mi)             0\n",
            "Description              0\n",
            "Street                   0\n",
            "City                     0\n",
            "County                   0\n",
            "State                    0\n",
            "Zipcode                  0\n",
            "Country                  0\n",
            "Timezone                 0\n",
            "Airport_Code             0\n",
            "Weather_Timestamp        0\n",
            "Temperature(F)           0\n",
            "Wind_Chill(F)            0\n",
            "Humidity(%)              0\n",
            "Pressure(in)             0\n",
            "Visibility(mi)           1\n",
            "Wind_Direction           0\n",
            "Wind_Speed(mph)          0\n",
            "Precipitation(in)        0\n",
            "Weather_Condition        0\n",
            "Amenity                  0\n",
            "Bump                     0\n",
            "Crossing                 0\n",
            "Give_Way                 0\n",
            "Junction                 0\n",
            "No_Exit                  0\n",
            "Railway                  0\n",
            "Roundabout               0\n",
            "Station                  0\n",
            "Stop                     0\n",
            "Traffic_Calming          0\n",
            "Traffic_Signal           0\n",
            "Turning_Loop             0\n",
            "Sunrise_Sunset           0\n",
            "Civil_Twilight           0\n",
            "Nautical_Twilight        0\n",
            "Astronomical_Twilight    0\n",
            "Month                    0\n",
            "Season                   0\n",
            "Severity                 0\n",
            "dtype: int64\n"
          ]
        }
      ],
      "source": [
        "# check for null values\n",
        "print(df_und_1.isnull().sum())\n",
        "# drop the null values\n",
        "df_und_1.dropna(inplace=True)"
      ]
    },
    {
      "cell_type": "code",
      "execution_count": 40,
      "metadata": {},
      "outputs": [],
      "source": [
        "# drop the null values for the other two data frames\n",
        "df_und_2.dropna(inplace=True)\n",
        "df_und_3.dropna(inplace=True)"
      ]
    },
    {
      "cell_type": "code",
      "execution_count": 41,
      "metadata": {},
      "outputs": [],
      "source": [
        "# Selected Features common to all the three undersampled data frames\n",
        "Features = ['Distance(mi)','Start_Lat', 'Start_Lng', 'Temperature(F)', 'Wind_Chill(F)','Humidity(%)', 'Pressure(in)', 'Visibility(mi)', 'Wind_Speed(mph)', 'Precipitation(in)', 'Amenity', 'Bump', 'Crossing', 'Give_Way', 'Junction', 'No_Exit', 'Railway', 'Roundabout', 'Station', 'Stop', 'Traffic_Calming', 'Traffic_Signal', 'Turning_Loop', 'Month']\n"
      ]
    },
    {
      "cell_type": "code",
      "execution_count": 87,
      "metadata": {},
      "outputs": [
        {
          "data": {
            "text/plain": [
              "24"
            ]
          },
          "execution_count": 87,
          "metadata": {},
          "output_type": "execute_result"
        }
      ],
      "source": [
        "# count the number of features\n",
        "len(Features)"
      ]
    },
    {
      "cell_type": "code",
      "execution_count": 42,
      "metadata": {},
      "outputs": [
        {
          "name": "stdout",
          "output_type": "stream",
          "text": [
            "[[10224   523  2067   312]\n",
            " [ 1725 16834  4868  6938]\n",
            " [ 1466  2760 22670  3592]\n",
            " [  173  4010  1059 25088]]\n"
          ]
        }
      ],
      "source": [
        "# full model rf classifier for undersampled data frame 1\n",
        "\n",
        "# split the data into train and test\n",
        "from sklearn.model_selection import train_test_split\n",
        "X = df_und_1[Features]\n",
        "y = df_und_1['Severity']\n",
        "X_train, X_test, y_train, y_test = train_test_split(X, y, test_size=0.2, random_state=412)\n",
        "\n",
        "# fit a random forest classifier with weight balancing\n",
        "from sklearn.ensemble import RandomForestClassifier\n",
        "rfc = RandomForestClassifier(class_weight='balanced')\n",
        "rfc.fit(X_train, y_train)\n",
        "\n",
        "# predict the values for test data\n",
        "y_pred = rfc.predict(X_test)\n",
        "\n",
        "# print the confusion matrix\n",
        "from sklearn.metrics import confusion_matrix\n",
        "confusion_matrix(y_test, y_pred)\n",
        "\n",
        "# calculate the cost of misclassification\n",
        "conf_mat_1 = confusion_matrix(y_test, y_pred)\n",
        "print(conf_mat_1)"
      ]
    },
    {
      "cell_type": "code",
      "execution_count": 43,
      "metadata": {},
      "outputs": [
        {
          "name": "stdout",
          "output_type": "stream",
          "text": [
            "[[11641   267  1037   268]\n",
            " [ 1257  6687  1996  3233]\n",
            " [ 1577  1036  9022  1630]\n",
            " [  192  1791   461 10572]]\n"
          ]
        }
      ],
      "source": [
        "# rf classifier for undersampled data frame 2\n",
        "# split the data into train and test\n",
        "from sklearn.model_selection import train_test_split\n",
        "X = df_und_2[Features]\n",
        "y = df_und_2['Severity']\n",
        "X_train, X_test, y_train, y_test = train_test_split(X, y, test_size=0.2, random_state=412)\n",
        "\n",
        "# fit a random forest classifier with weight balancing\n",
        "from sklearn.ensemble import RandomForestClassifier\n",
        "rfc = RandomForestClassifier(class_weight='balanced')\n",
        "rfc.fit(X_train, y_train)\n",
        "\n",
        "# predict the values for test data\n",
        "y_pred = rfc.predict(X_test)\n",
        "\n",
        "# print the confusion matrix\n",
        "from sklearn.metrics import confusion_matrix\n",
        "confusion_matrix(y_test, y_pred)\n",
        "\n",
        "# calculate the cost of misclassification\n",
        "conf_mat_2 = confusion_matrix(y_test, y_pred)\n",
        "print(conf_mat_2)\n"
      ]
    },
    {
      "cell_type": "code",
      "execution_count": 44,
      "metadata": {},
      "outputs": [
        {
          "name": "stdout",
          "output_type": "stream",
          "text": [
            "[[10619   132  2024   393]\n",
            " [  941  4257  2840  5149]\n",
            " [ 1612   772 23664  4357]\n",
            " [  195  1364  1248 27529]]\n"
          ]
        }
      ],
      "source": [
        "# rf classifier for undersampled data frame 3\n",
        "# split the data into train and test\n",
        "from sklearn.model_selection import train_test_split\n",
        "X = df_und_3[Features]\n",
        "y = df_und_3['Severity']\n",
        "X_train, X_test, y_train, y_test = train_test_split(X, y, test_size=0.2, random_state=412)\n",
        "\n",
        "# fit a random forest classifier with weight balancing\n",
        "from sklearn.ensemble import RandomForestClassifier\n",
        "rfc = RandomForestClassifier(class_weight='balanced')\n",
        "rfc.fit(X_train, y_train)\n",
        "\n",
        "# predict the values for test data\n",
        "y_pred = rfc.predict(X_test)\n",
        "\n",
        "# print the confusion matrix\n",
        "from sklearn.metrics import confusion_matrix\n",
        "confusion_matrix(y_test, y_pred)\n",
        "\n",
        "# calculate the cost of misclassification\n",
        "conf_mat_3 = confusion_matrix(y_test, y_pred)\n",
        "print(conf_mat_3)"
      ]
    },
    {
      "cell_type": "code",
      "execution_count": 45,
      "metadata": {},
      "outputs": [],
      "source": [
        "# function to calculate the cost of misclassification\n",
        "\n",
        "def cost_of_misclassification(conf_mat):\n",
        "    cost = 0\n",
        "    cost += conf_mat[0][0]* 5 + conf_mat[1][1]* 5 + conf_mat[2][2]* 5 + conf_mat[3][3]* 5\n",
        "    cost += conf_mat[0][1]*2 + conf_mat[0][2]*5 + conf_mat[0][3]*10\n",
        "    cost += conf_mat[1][0]*2 + conf_mat[2][0]*10 + conf_mat[3][0]*20\n",
        "    cost += conf_mat[1][2]*5 + conf_mat[1][3]*10\n",
        "    cost += conf_mat[2][1]*5 + conf_mat[2][3]*5\n",
        "    cost += conf_mat[3][1]*10 + conf_mat[3][2]*5\n",
        "    return cost"
      ]
    },
    {
      "cell_type": "code",
      "execution_count": 46,
      "metadata": {},
      "outputs": [
        {
          "name": "stdout",
          "output_type": "stream",
          "text": [
            "581026\n",
            "295988\n",
            "477776\n"
          ]
        }
      ],
      "source": [
        "# calculate the cost of misclassification for all the three undersampled data frames\n",
        "cost_1 = cost_of_misclassification(conf_mat_1)\n",
        "cost_2 = cost_of_misclassification(conf_mat_2)\n",
        "cost_3 = cost_of_misclassification(conf_mat_3)\n",
        "\n",
        "# print the cost of misclassification\n",
        "print(cost_1)\n",
        "print(cost_2)\n",
        "print(cost_3)"
      ]
    },
    {
      "cell_type": "code",
      "execution_count": 64,
      "metadata": {},
      "outputs": [
        {
          "name": "stdout",
          "output_type": "stream",
          "text": [
            "(263335, 46)\n",
            "Severity\n",
            "1    65834\n",
            "3    65834\n",
            "4    65834\n",
            "2    65833\n",
            "Name: count, dtype: int64\n",
            "            ID   Source           Start_Time             End_Time  Start_Lat  \\\n",
            "163      A-164  Source2  2016-02-15 17:22:10  2016-02-15 18:07:10  41.395805   \n",
            "374      A-375  Source2  2016-02-24 07:59:51  2016-02-24 08:29:51  40.018669   \n",
            "12420  A-12421  Source2  2017-01-24 08:50:08  2017-01-24 09:50:08  37.771721   \n",
            "51721  A-51722  Source2  2016-07-27 09:00:18  2016-07-27 09:30:18  33.885597   \n",
            "56997  A-56998  Source2  2016-12-16 10:36:43  2016-12-16 11:36:43  32.723068   \n",
            "\n",
            "        Start_Lng  Distance(mi)  \\\n",
            "163    -81.935562           0.0   \n",
            "374    -81.565704           0.0   \n",
            "12420 -121.212677           0.0   \n",
            "51721 -118.143425           0.0   \n",
            "56997 -117.161888           0.0   \n",
            "\n",
            "                                             Description            Street  \\\n",
            "163                 Accident on Westlawn Dr at Holly Dr.     Maplehurst Rd   \n",
            "374           Accident on North Ave at Old Byesville Rd.  Old Byesville Rd   \n",
            "12420             Accident on Generations Ct in Manteca.    Generations Ct   \n",
            "51721  Accident on Mayne St both ways between Hayter ...          Mayne St   \n",
            "56997          Accident on 3rd Ave Westbound at Date St.           3rd Ave   \n",
            "\n",
            "                City  ... Traffic_Calming Traffic_Signal Turning_Loop  \\\n",
            "163    North Olmsted  ...           False          False        False   \n",
            "374        Cambridge  ...           False          False        False   \n",
            "12420        Manteca  ...           False          False        False   \n",
            "51721     Bellflower  ...           False          False        False   \n",
            "56997      San Diego  ...           False          False        False   \n",
            "\n",
            "      Sunrise_Sunset Civil_Twilight Nautical_Twilight Astronomical_Twilight  \\\n",
            "163              Day            Day               Day                   Day   \n",
            "374              Day            Day               Day                   Day   \n",
            "12420            Day            Day               Day                   Day   \n",
            "51721            Day            Day               Day                   Day   \n",
            "56997            Day            Day               Day                   Day   \n",
            "\n",
            "       Month  Season  Severity  \n",
            "163        2  Winter         1  \n",
            "374        2  Winter         1  \n",
            "12420      1  Winter         1  \n",
            "51721      7  Summer         1  \n",
            "56997     12  Winter         1  \n",
            "\n",
            "[5 rows x 46 columns]\n"
          ]
        }
      ],
      "source": [
        "# select the undersampled data frame with the least cost of misclassification\n",
        "# undersampled data frame 2 has the least cost of misclassification\n",
        "df_us_final = df_und_2\n",
        "# print the shape of the final undersampled data frame\n",
        "print(df_us_final.shape)\n",
        "# print the count of severity values\n",
        "print(df_us_final['Severity'].value_counts())\n",
        "# print the head of the final undersampled data frame\n",
        "print(df_us_final.head())"
      ]
    },
    {
      "cell_type": "code",
      "execution_count": 65,
      "metadata": {},
      "outputs": [
        {
          "data": {
            "text/plain": [
              "Severity\n",
              "1    65834\n",
              "3    65834\n",
              "4    65834\n",
              "2    65833\n",
              "Name: count, dtype: int64"
            ]
          },
          "execution_count": 65,
          "metadata": {},
          "output_type": "execute_result"
        }
      ],
      "source": [
        "# check severity values for the final undersampled data frame\n",
        "df_us_final['Severity'].value_counts()"
      ]
    },
    {
      "cell_type": "code",
      "execution_count": 66,
      "metadata": {},
      "outputs": [
        {
          "data": {
            "text/plain": [
              "Season  Severity\n",
              "Fall    2           17551\n",
              "        4           15367\n",
              "        3           14864\n",
              "        1            2771\n",
              "Spring  1           30608\n",
              "        3           17331\n",
              "        4           16561\n",
              "        2           14059\n",
              "Summer  1           31995\n",
              "        3           16270\n",
              "        4           13879\n",
              "        2           12680\n",
              "Winter  2           21543\n",
              "        4           20027\n",
              "        3           17369\n",
              "        1             460\n",
              "Name: count, dtype: int64"
            ]
          },
          "execution_count": 66,
          "metadata": {},
          "output_type": "execute_result"
        }
      ],
      "source": [
        "# check for the season with highest severity 4 and severity 3 values\n",
        "df_us_final.groupby('Season')['Severity'].value_counts()"
      ]
    },
    {
      "cell_type": "code",
      "execution_count": 50,
      "metadata": {},
      "outputs": [
        {
          "data": {
            "text/plain": [
              "Season\n",
              "Fall      50553\n",
              "Spring    78559\n",
              "Summer    74824\n",
              "Winter    59399\n",
              "Name: Severity, dtype: int64"
            ]
          },
          "execution_count": 50,
          "metadata": {},
          "output_type": "execute_result"
        }
      ],
      "source": [
        "# dispaly the total values by season\n",
        "df_us_final.groupby('Season')['Severity'].count()"
      ]
    },
    {
      "cell_type": "code",
      "execution_count": 51,
      "metadata": {},
      "outputs": [
        {
          "data": {
            "text/plain": [
              "Season\n",
              "Fall      47782\n",
              "Spring    47951\n",
              "Summer    42829\n",
              "Winter    58939\n",
              "Name: Severity, dtype: int64"
            ]
          },
          "execution_count": 51,
          "metadata": {},
          "output_type": "execute_result"
        }
      ],
      "source": [
        "# new dataframe without severity 1 values\n",
        "df_us_final_new = df_us_final[df_us_final['Severity']!=1]\n",
        "# check the count of severity values per season\n",
        "df_us_final_new.groupby('Season')['Severity'].count()"
      ]
    },
    {
      "cell_type": "code",
      "execution_count": 52,
      "metadata": {},
      "outputs": [
        {
          "data": {
            "image/png": "[encoded data removed]",
            "text/plain": [
              "<Figure size 500x500 with 1 Axes>"
            ]
          },
          "metadata": {},
          "output_type": "display_data"
        }
      ],
      "source": [
        "# plot the count of severity values per season as pie chart\n",
        "import matplotlib.pyplot as plt\n",
        "plt.figure(figsize=(5,5))\n",
        "plt.pie(df_us_final_new.groupby('Season')['Severity'].count(),labels=['Fall','Spring','Summer','Winter'],autopct='%1.1f%%')\n",
        "plt.title('Severity values per season')\n",
        "plt.show()"
      ]
    },
    {
      "cell_type": "code",
      "execution_count": 53,
      "metadata": {},
      "outputs": [
        {
          "name": "stdout",
          "output_type": "stream",
          "text": [
            "    Season  Count  count\n",
            "0     Fall      2  17551\n",
            "1     Fall      4  15367\n",
            "2     Fall      3  14864\n",
            "3     Fall      1   2771\n",
            "4   Spring      1  30608\n",
            "5   Spring      3  17331\n",
            "6   Spring      4  16561\n",
            "7   Spring      2  14059\n",
            "8   Summer      1  31995\n",
            "9   Summer      3  16270\n",
            "10  Summer      4  13879\n",
            "11  Summer      2  12680\n",
            "12  Winter      2  21543\n",
            "13  Winter      4  20027\n",
            "14  Winter      3  17369\n",
            "15  Winter      1    460\n"
          ]
        }
      ],
      "source": [
        "# store the above values in a temporary data frame\n",
        "temp = df_us_final.groupby('Season')['Severity'].value_counts().to_frame()\n",
        "# reset the index\n",
        "temp.reset_index(inplace=True)\n",
        "# rename the column\n",
        "temp.rename(columns={'Severity':'Count'},inplace=True)\n",
        "# print the temporary data frame\n",
        "print(temp)"
      ]
    },
    {
      "cell_type": "code",
      "execution_count": 54,
      "metadata": {},
      "outputs": [
        {
          "name": "stdout",
          "output_type": "stream",
          "text": [
            "    Season  Count  count Season_Severity\n",
            "0     Fall      2  17551          Fall_2\n",
            "1     Fall      4  15367          Fall_4\n",
            "2     Fall      3  14864          Fall_3\n",
            "3     Fall      1   2771          Fall_1\n",
            "4   Spring      1  30608        Spring_1\n",
            "5   Spring      3  17331        Spring_3\n",
            "6   Spring      4  16561        Spring_4\n",
            "7   Spring      2  14059        Spring_2\n",
            "8   Summer      1  31995        Summer_1\n",
            "9   Summer      3  16270        Summer_3\n",
            "10  Summer      4  13879        Summer_4\n",
            "11  Summer      2  12680        Summer_2\n",
            "12  Winter      2  21543        Winter_2\n",
            "13  Winter      4  20027        Winter_4\n",
            "14  Winter      3  17369        Winter_3\n",
            "15  Winter      1    460        Winter_1\n"
          ]
        }
      ],
      "source": [
        "# combine the season and severity values\n",
        "temp['Season_Severity'] = temp['Season'] + '_' + temp['Count'].astype(str)\n",
        "# print the temporary data frame\n",
        "print(temp)"
      ]
    },
    {
      "cell_type": "code",
      "execution_count": 55,
      "metadata": {},
      "outputs": [
        {
          "data": {
            "text/plain": [
              "<Axes: xlabel='Season', ylabel='count'>"
            ]
          },
          "execution_count": 55,
          "metadata": {},
          "output_type": "execute_result"
        },
        {
          "data": {
            "image/png": "[encoded data removed]",
            "text/plain": [
              "<Figure size 640x480 with 1 Axes>"
            ]
          },
          "metadata": {},
          "output_type": "display_data"
        }
      ],
      "source": [
        "# consider the severity 4 and severity 3 data points\n",
        "# plot the severity 4 and severity 3 data points vs the season\n",
        "import seaborn as sns\n",
        "import matplotlib.pyplot as plt\n",
        "sns.countplot(x='Season',hue='Severity',data=df_us_final)"
      ]
    },
    {
      "cell_type": "code",
      "execution_count": 125,
      "metadata": {},
      "outputs": [],
      "source": [
        "# split the data into four seasons for df_us_final\n",
        "fall_df = df_us_final[df_us_final['Season']=='Fall']\n",
        "spring_df = df_us_final[df_us_final['Season']=='Spring']\n",
        "summer_df = df_us_final[df_us_final['Season']=='Summer']\n",
        "winter_df = df_us_final[df_us_final['Season']=='Winter']"
      ]
    },
    {
      "cell_type": "code",
      "execution_count": 57,
      "metadata": {},
      "outputs": [
        {
          "name": "stdout",
          "output_type": "stream",
          "text": [
            "[[  46   17   32    0]\n",
            " [   4 2536  722 1049]\n",
            " [  12  356 2630  422]\n",
            " [   0  639  117 3298]]\n",
            "0.7163299663299664\n",
            "[[  28   15   46    1]\n",
            " [   6 2542  683 1114]\n",
            " [   7  339 2693  496]\n",
            " [   0  645  113 3152]]\n",
            "0.7083333333333334\n",
            "[[  37   16   41    0]\n",
            " [   4 2572  707 1070]\n",
            " [  11  358 2560  489]\n",
            " [   1  657  129 3228]]\n",
            "0.7068181818181818\n",
            "[[  36   13   36    1]\n",
            " [   7 2603  689 1067]\n",
            " [   8  361 2689  441]\n",
            " [   0  620  116 3193]]\n",
            "0.7172558922558923\n",
            "[[  38   17   37    3]\n",
            " [   2 2446  705 1015]\n",
            " [   5  388 2645  459]\n",
            " [   2  667  115 3335]]\n",
            "0.7125178887111709\n"
          ]
        }
      ],
      "source": [
        "# fit a random forest classifier with weight balancing\n",
        "from sklearn.ensemble import RandomForestClassifier\n",
        "rfc = RandomForestClassifier(class_weight='balanced')\n",
        "\n",
        "# split the data into train and test\n",
        "from sklearn.model_selection import train_test_split\n",
        "features = Features\n",
        "X_winter = winter_df[features]\n",
        "y_winter = winter_df['Severity']\n",
        "\n",
        "# split the data into train and test using k fold cross validation\n",
        "from sklearn.model_selection import KFold\n",
        "kf = KFold(n_splits=5,shuffle=True,random_state=412)\n",
        "for train_index, test_index in kf.split(X_winter):\n",
        "    X_train_w, X_test_w = X_winter.iloc[train_index], X_winter.iloc[test_index]\n",
        "    y_train_w, y_test_w = y_winter.iloc[train_index], y_winter.iloc[test_index]\n",
        "    rfc.fit(X_train_w, y_train_w)\n",
        "    y_pred_w = rfc.predict(X_test_w)\n",
        "    print(confusion_matrix(y_test_w, y_pred_w))\n",
        "    # accuracy\n",
        "    print((y_pred_w==y_test_w).mean())"
      ]
    },
    {
      "cell_type": "code",
      "execution_count": 58,
      "metadata": {},
      "outputs": [
        {
          "name": "stdout",
          "output_type": "stream",
          "text": [
            "67734\n"
          ]
        }
      ],
      "source": [
        "# best confusion matrix for winter\n",
        "conf_mat_w = [[45,15,35,0],[2,2554,719,1036],[10,358,2636,416],[0,631,116,3307]]\n",
        "# RMSE for winter\n",
        "print(cost_of_misclassification(conf_mat_w))"
      ]
    },
    {
      "cell_type": "code",
      "execution_count": 126,
      "metadata": {},
      "outputs": [],
      "source": [
        "import pandas as pd\n",
        "from sklearn.model_selection import train_test_split\n",
        "from sklearn.preprocessing import StandardScaler\n",
        "\n",
        "# Split data into features and labels\n",
        "X = winter_df[Features] # Features\n",
        "y = winter_df['Severity']\n",
        "\n",
        "# Split data into training and validation sets\n",
        "X_train, X_val, y_train, y_val = train_test_split(X, y, test_size=0.2, random_state=42)\n",
        "\n",
        "# change the labels to 0-3\n",
        "y_train = y_train - 1\n",
        "y_val = y_val - 1\n",
        "\n",
        "# Standardize the features (optional but often beneficial)\n",
        "scaler = StandardScaler()\n",
        "X_train = scaler.fit_transform(X_train)\n",
        "X_val = scaler.transform(X_val)\n"
      ]
    },
    {
      "cell_type": "code",
      "execution_count": 127,
      "metadata": {},
      "outputs": [
        {
          "data": {
            "text/plain": [
              "array([1, 3, 2, 0])"
            ]
          },
          "execution_count": 127,
          "metadata": {},
          "output_type": "execute_result"
        }
      ],
      "source": [
        "# unique values in the labels\n",
        "y_train.unique()\n"
      ]
    },
    {
      "cell_type": "code",
      "execution_count": 128,
      "metadata": {},
      "outputs": [
        {
          "name": "stdout",
          "output_type": "stream",
          "text": [
            "Epoch 1/20\n",
            "1485/1485 [==============================] - 1s 698us/step - loss: 1.0580 - accuracy: 0.4896 - val_loss: 0.9875 - val_accuracy: 0.5501\n",
            "Epoch 2/20\n",
            "1485/1485 [==============================] - 1s 623us/step - loss: 0.9906 - accuracy: 0.5401 - val_loss: 0.9332 - val_accuracy: 0.5859\n",
            "Epoch 3/20\n",
            "1485/1485 [==============================] - 1s 637us/step - loss: 0.9498 - accuracy: 0.5705 - val_loss: 0.8952 - val_accuracy: 0.6097\n",
            "Epoch 4/20\n",
            "1485/1485 [==============================] - 1s 617us/step - loss: 0.9155 - accuracy: 0.5949 - val_loss: 0.8639 - val_accuracy: 0.6348\n",
            "Epoch 5/20\n",
            "1485/1485 [==============================] - 1s 619us/step - loss: 0.8924 - accuracy: 0.6071 - val_loss: 0.8578 - val_accuracy: 0.6340\n",
            "Epoch 6/20\n",
            "1485/1485 [==============================] - 1s 620us/step - loss: 0.8772 - accuracy: 0.6156 - val_loss: 0.8383 - val_accuracy: 0.6429\n",
            "Epoch 7/20\n",
            "1485/1485 [==============================] - 1s 620us/step - loss: 0.8635 - accuracy: 0.6231 - val_loss: 0.8234 - val_accuracy: 0.6449\n",
            "Epoch 8/20\n",
            "1485/1485 [==============================] - 1s 622us/step - loss: 0.8554 - accuracy: 0.6264 - val_loss: 0.8255 - val_accuracy: 0.6490\n",
            "Epoch 9/20\n",
            "1485/1485 [==============================] - 1s 623us/step - loss: 0.8472 - accuracy: 0.6305 - val_loss: 0.8133 - val_accuracy: 0.6534\n",
            "Epoch 10/20\n",
            "1485/1485 [==============================] - 1s 620us/step - loss: 0.8391 - accuracy: 0.6335 - val_loss: 0.8122 - val_accuracy: 0.6561\n",
            "Epoch 11/20\n",
            "1485/1485 [==============================] - 1s 643us/step - loss: 0.8384 - accuracy: 0.6363 - val_loss: 0.8057 - val_accuracy: 0.6581\n",
            "Epoch 12/20\n",
            "1485/1485 [==============================] - 1s 638us/step - loss: 0.8312 - accuracy: 0.6370 - val_loss: 0.8091 - val_accuracy: 0.6548\n",
            "Epoch 13/20\n",
            "1485/1485 [==============================] - 1s 619us/step - loss: 0.8292 - accuracy: 0.6404 - val_loss: 0.8022 - val_accuracy: 0.6619\n",
            "Epoch 14/20\n",
            "1485/1485 [==============================] - 1s 621us/step - loss: 0.8271 - accuracy: 0.6390 - val_loss: 0.7990 - val_accuracy: 0.6585\n",
            "Epoch 15/20\n",
            "1485/1485 [==============================] - 1s 619us/step - loss: 0.8233 - accuracy: 0.6420 - val_loss: 0.7988 - val_accuracy: 0.6585\n",
            "Epoch 16/20\n",
            "1485/1485 [==============================] - 1s 621us/step - loss: 0.8200 - accuracy: 0.6410 - val_loss: 0.7968 - val_accuracy: 0.6623\n",
            "Epoch 17/20\n",
            "1485/1485 [==============================] - 1s 620us/step - loss: 0.8211 - accuracy: 0.6408 - val_loss: 0.8023 - val_accuracy: 0.6583\n",
            "Epoch 18/20\n",
            "1485/1485 [==============================] - 1s 623us/step - loss: 0.8180 - accuracy: 0.6433 - val_loss: 0.7918 - val_accuracy: 0.6655\n",
            "Epoch 19/20\n",
            "1485/1485 [==============================] - 1s 619us/step - loss: 0.8159 - accuracy: 0.6449 - val_loss: 0.7949 - val_accuracy: 0.6625\n",
            "Epoch 20/20\n",
            "1485/1485 [==============================] - 1s 635us/step - loss: 0.8135 - accuracy: 0.6455 - val_loss: 0.7995 - val_accuracy: 0.6613\n"
          ]
        }
      ],
      "source": [
        "from tensorflow.keras.models import Sequential\n",
        "from tensorflow.keras.layers import Dense, Dropout\n",
        "\n",
        "# Define the model architecture\n",
        "model = Sequential([\n",
        "    Dense(128, activation='relu', input_shape=(X_train.shape[1],)),\n",
        "    Dropout(0.5),  # Optional dropout layer for regularization\n",
        "    Dense(64, activation='relu'),\n",
        "    Dense(4, activation='softmax')  # Adjust output units for your multiclass problem\n",
        "])\n",
        "\n",
        "# Compile the model\n",
        "model.compile(optimizer='adam', loss='sparse_categorical_crossentropy', metrics=['accuracy'])\n",
        "\n",
        "# Train the model\n",
        "history = model.fit(X_train, y_train, validation_data=(X_val, y_val), epochs=20, batch_size=32)\n"
      ]
    },
    {
      "cell_type": "code",
      "execution_count": 129,
      "metadata": {},
      "outputs": [
        {
          "name": "stdout",
          "output_type": "stream",
          "text": [
            "372/372 [==============================] - 0s 336us/step\n",
            "[0 1 2 3]\n",
            "[0 1 2 3]\n",
            "[[   2   28   61    3]\n",
            " [   1 2180  835 1287]\n",
            " [   1  402 2556  484]\n",
            " [   1  679  242 3118]]\n",
            "69178\n"
          ]
        }
      ],
      "source": [
        "from sklearn.metrics import confusion_matrix, accuracy_score\n",
        "import numpy as np\n",
        "\n",
        "# Assuming 'model' is your trained ResNet model\n",
        "predictions = model.predict(X_val)\n",
        "\n",
        "# Convert one-hot encoded predictions and true labels back to categorical values\n",
        "y_pred_classes = np.argmax(predictions, axis=-1)\n",
        "y_true = y_val\n",
        "\n",
        "# unique values in the y_true and y_pred_classes\n",
        "print(np.unique(y_true))\n",
        "print(np.unique(y_pred_classes))\n",
        "\n",
        "\n",
        "# convert the y_true to a list\n",
        "y_true = y_true.tolist()\n",
        "\n",
        "# calculate the confusion matrix\n",
        "conf_mat = confusion_matrix(y_true, y_pred_classes)\n",
        "print(conf_mat)\n",
        "\n",
        "# misclassification cost for winter\n",
        "print(cost_of_misclassification(conf_mat))"
      ]
    },
    {
      "cell_type": "code",
      "execution_count": 130,
      "metadata": {},
      "outputs": [
        {
          "name": "stdout",
          "output_type": "stream",
          "text": [
            "372/372 [==============================] - 0s 322us/step\n",
            "372/372 [==============================] - 0s 314us/step\n",
            "372/372 [==============================] - 0s 312us/step\n",
            "372/372 [==============================] - 0s 313us/step\n",
            "372/372 [==============================] - 0s 310us/step\n",
            "372/372 [==============================] - 0s 312us/step\n",
            "372/372 [==============================] - 0s 311us/step\n",
            "372/372 [==============================] - 0s 311us/step\n",
            "372/372 [==============================] - 0s 310us/step\n",
            "372/372 [==============================] - 0s 313us/step\n",
            "372/372 [==============================] - 0s 313us/step\n",
            "372/372 [==============================] - 0s 313us/step\n",
            "372/372 [==============================] - 0s 309us/step\n",
            "372/372 [==============================] - 0s 317us/step\n",
            "372/372 [==============================] - 0s 313us/step\n",
            "372/372 [==============================] - 0s 392us/step\n",
            "372/372 [==============================] - 0s 316us/step\n",
            "372/372 [==============================] - 0s 314us/step\n",
            "372/372 [==============================] - 0s 321us/step\n",
            "372/372 [==============================] - 0s 320us/step\n",
            "372/372 [==============================] - 0s 319us/step\n",
            "372/372 [==============================] - 0s 322us/step\n",
            "372/372 [==============================] - 0s 314us/step\n",
            "372/372 [==============================] - 0s 323us/step\n",
            "372/372 [==============================] - 0s 326us/step\n",
            "372/372 [==============================] - 0s 327us/step\n",
            "372/372 [==============================] - 0s 324us/step\n",
            "372/372 [==============================] - 0s 332us/step\n",
            "372/372 [==============================] - 0s 318us/step\n",
            "372/372 [==============================] - 0s 321us/step\n",
            "372/372 [==============================] - 0s 328us/step\n",
            "372/372 [==============================] - 0s 331us/step\n",
            "372/372 [==============================] - 0s 321us/step\n",
            "372/372 [==============================] - 0s 330us/step\n",
            "372/372 [==============================] - 0s 326us/step\n",
            "372/372 [==============================] - 0s 336us/step\n",
            "372/372 [==============================] - 0s 326us/step\n",
            "372/372 [==============================] - 0s 329us/step\n",
            "372/372 [==============================] - 0s 324us/step\n",
            "372/372 [==============================] - 0s 329us/step\n",
            "372/372 [==============================] - 0s 401us/step\n",
            "372/372 [==============================] - 0s 344us/step\n",
            "372/372 [==============================] - 0s 327us/step\n",
            "372/372 [==============================] - 0s 332us/step\n",
            "372/372 [==============================] - 0s 327us/step\n",
            "372/372 [==============================] - 0s 373us/step\n",
            "372/372 [==============================] - 0s 339us/step\n",
            "372/372 [==============================] - 0s 332us/step\n",
            "372/372 [==============================] - 0s 346us/step\n",
            "372/372 [==============================] - 0s 348us/step\n",
            "372/372 [==============================] - 0s 340us/step\n",
            "372/372 [==============================] - 0s 346us/step\n",
            "372/372 [==============================] - 0s 411us/step\n",
            "372/372 [==============================] - 0s 342us/step\n",
            "372/372 [==============================] - 0s 343us/step\n",
            "372/372 [==============================] - 0s 344us/step\n",
            "372/372 [==============================] - 0s 345us/step\n",
            "372/372 [==============================] - 0s 350us/step\n",
            "372/372 [==============================] - 0s 343us/step\n",
            "372/372 [==============================] - 0s 346us/step\n",
            "372/372 [==============================] - 0s 340us/step\n",
            "372/372 [==============================] - 0s 344us/step\n",
            "372/372 [==============================] - 0s 443us/step\n",
            "372/372 [==============================] - 0s 374us/step\n",
            "372/372 [==============================] - 0s 339us/step\n",
            "372/372 [==============================] - 0s 346us/step\n",
            "372/372 [==============================] - 0s 366us/step\n",
            "372/372 [==============================] - 0s 355us/step\n",
            "372/372 [==============================] - 0s 348us/step\n",
            "372/372 [==============================] - 0s 364us/step\n",
            "372/372 [==============================] - 0s 401us/step\n",
            "372/372 [==============================] - 0s 386us/step\n",
            "Best Parameters: {'neurons': 256, 'dropout_rate': 0.5, 'learning_rate': 0.01, 'optimizer': 'adam', 'activation': 'relu'}\n",
            "Best Accuracy: 0.6608585858585858\n"
          ]
        }
      ],
      "source": [
        "# Hyperparameter tuning for winter\n",
        "from tensorflow.keras.models import Sequential\n",
        "from tensorflow.keras.layers import Dense, Dropout\n",
        "from sklearn.model_selection import StratifiedKFold\n",
        "from sklearn.metrics import accuracy_score\n",
        "\n",
        "# Define a function to create the model\n",
        "def create_model(neurons=128, dropout_rate=0.5, learning_rate=0.001, optimizer='adam', activation='relu'):\n",
        "    model = Sequential([\n",
        "        Dense(neurons, activation=activation, input_shape=(X_train.shape[1],)),\n",
        "        Dropout(dropout_rate),\n",
        "        Dense(64, activation=activation),\n",
        "        Dense(4, activation='softmax')\n",
        "    ])\n",
        "    model.compile(optimizer=optimizer, loss='sparse_categorical_crossentropy', metrics=['accuracy'])\n",
        "    return model\n",
        "\n",
        "# Define hyperparameters to tune\n",
        "neurons_values = [64, 128, 256]\n",
        "dropout_rate_values = [0.3, 0.5, 0.7]\n",
        "learning_rate_values = [0.001, 0.01]\n",
        "optimizer_values = ['adam', 'rmsprop']\n",
        "activation_values = ['relu', 'tanh']\n",
        "\n",
        "best_accuracy = 0\n",
        "best_params = {}\n",
        "\n",
        "# Perform manual hyperparameter tuning\n",
        "for neurons in neurons_values:\n",
        "    for dropout_rate in dropout_rate_values:\n",
        "        for learning_rate in learning_rate_values:\n",
        "            for optimizer in optimizer_values:\n",
        "                for activation in activation_values:\n",
        "                    model = create_model(neurons=neurons, dropout_rate=dropout_rate,\n",
        "                                         learning_rate=learning_rate, optimizer=optimizer, activation=activation)\n",
        "                    history = model.fit(X_train, y_train, validation_data=(X_val, y_val), epochs=10, batch_size=32, verbose=0)\n",
        "                    y_pred = model.predict(X_val)\n",
        "                    accuracy = accuracy_score(y_val, y_pred.argmax(axis=-1))\n",
        "                    if accuracy > best_accuracy:\n",
        "                        best_accuracy = accuracy\n",
        "                        best_params = {'neurons': neurons, 'dropout_rate': dropout_rate,\n",
        "                                       'learning_rate': learning_rate, 'optimizer': optimizer,\n",
        "                                       'activation': activation}\n",
        "\n",
        "print(\"Best Parameters:\", best_params)\n",
        "print(\"Best Accuracy:\", best_accuracy)\n"
      ]
    },
    {
      "cell_type": "code",
      "execution_count": 131,
      "metadata": {},
      "outputs": [
        {
          "name": "stdout",
          "output_type": "stream",
          "text": [
            "372/372 [==============================] - 0s 345us/step\n",
            "[[   5   23   64    2]\n",
            " [   0 2277  883 1143]\n",
            " [   2  388 2579  474]\n",
            " [   1  810  321 2908]]\n"
          ]
        }
      ],
      "source": [
        "# train the model with the best parameters\n",
        "model = create_model(neurons=best_params['neurons'], dropout_rate=best_params['dropout_rate'],\n",
        "                     learning_rate=best_params['learning_rate'], optimizer=best_params['optimizer'],\n",
        "                     activation=best_params['activation'])\n",
        "\n",
        "history = model.fit(X_train, y_train, validation_data=(X_val, y_val), epochs=20, batch_size=32, verbose=0)\n",
        "\n",
        "# predict the values for test data\n",
        "y_pred = model.predict(X_val)\n",
        "\n",
        "# convert the y_true to a list\n",
        "y_true = y_val.tolist()\n",
        "\n",
        "# calculate the confusion matrix\n",
        "conf_mat_1 = confusion_matrix(y_true, y_pred.argmax(axis=-1))\n",
        "print(conf_mat_1)\n"
      ]
    },
    {
      "cell_type": "code",
      "execution_count": 133,
      "metadata": {},
      "outputs": [
        {
          "name": "stdout",
          "output_type": "stream",
          "text": [
            "[1, 1, 3, 3, 1, 1, 2, 2, 0, 3, 3, 1, 1, 1, 1, 1, 1, 1, 2, 2, 2, 3, 1, 2, 1, 1, 1, 3, 3, 3, 1, 2, 3, 2, 3, 3, 3, 1, 2, 3, 3, 2, 2, 1, 1, 1, 3, 3, 2, 1, 1, 2, 3, 2, 2, 1, 3, 2, 2, 1, 1, 1, 3, 2, 2, 1, 2, 1, 1, 1, 3, 1, 0, 1, 1, 3, 3, 2, 1, 3, 1, 3, 3, 1, 3, 3, 3, 3, 1, 1, 3, 3, 2, 2, 1, 1, 1, 1, 1, 2, 3, 3, 3, 3, 1, 3, 2, 3, 2, 1, 2, 2, 3, 3, 2, 1, 2, 1, 1, 3, 1, 2, 1, 3, 2, 3, 2, 2, 1, 3, 2, 1, 3, 1, 1, 3, 3, 1, 1, 3, 2, 3, 2, 1, 3, 2, 3, 3, 1, 3, 3, 1, 3, 3, 1, 1, 2, 1, 2, 3, 3, 3, 1, 2, 3, 1, 1, 1, 3, 3, 1, 3, 1, 3, 2, 1, 2, 1, 2, 2, 2, 3, 0, 3, 3, 3, 2, 2, 3, 1, 3, 3, 3, 3, 3, 1, 3, 3, 2, 3, 1, 1, 1, 1, 1, 1, 2, 2, 1, 1, 3, 3, 3, 1, 3, 2, 3, 3, 3, 1, 3, 3, 3, 3, 3, 3, 3, 1, 2, 1, 1, 2, 3, 2, 3, 1, 1, 2, 3, 1, 3, 2, 2, 1, 1, 2, 2, 2, 1, 2, 3, 3, 3, 3, 3, 3, 2, 2, 2, 3, 2, 1, 3, 3, 2, 3, 2, 1, 1, 3, 1, 3, 1, 2, 2, 3, 3, 3, 1, 2, 1, 1, 2, 3, 1, 2, 3, 3, 3, 3, 1, 1, 1, 1, 1, 3, 1, 3, 3, 2, 3, 3, 3, 1, 3, 1, 2, 1, 1, 3, 3, 1, 1, 3, 2, 1, 1, 1, 2, 1, 3, 1, 3, 1, 1, 1, 3, 1, 3, 2, 2, 3, 2, 1, 3, 2, 3, 3, 2, 2, 1, 3, 1, 3, 1, 2, 2, 2, 2, 1, 2, 3, 3, 1, 3, 3, 1, 3, 2, 1, 2, 3, 3, 1, 1, 3, 2, 2, 2, 1, 2, 1, 1, 3, 1, 3, 1, 2, 2, 2, 3, 2, 1, 1, 2, 1, 3, 3, 3, 2, 3, 3, 1, 2, 1, 2, 1, 3, 1, 1, 2, 2, 3, 1, 1, 1, 1, 3, 2, 1, 1, 2, 1, 3, 3, 3, 1, 3, 1, 2, 1, 3, 3, 2, 1, 1, 1, 2, 3, 2, 2, 2, 1, 2, 1, 3, 3, 1, 1, 3, 3, 2, 1, 1, 2, 3, 1, 2, 2, 1, 1, 1, 1, 3, 1, 3, 2, 1, 2, 0, 3, 3, 1, 1, 1, 2, 3, 1, 1, 2, 1, 1, 1, 1, 3, 3, 2, 3, 3, 1, 1, 1, 1, 2, 2, 3, 2, 2, 1, 1, 1, 1, 3, 2, 3, 3, 3, 2, 3, 1, 2, 2, 1, 1, 1, 2, 2, 3, 1, 3, 2, 3, 2, 3, 2, 1, 2, 1, 1, 1, 3, 3, 3, 3, 1, 1, 2, 3, 2, 2, 1, 1, 1, 2, 2, 3, 1, 3, 2, 2, 1, 1, 2, 2, 1, 3, 3, 3, 2, 2, 3, 2, 3, 1, 2, 2, 1, 1, 3, 3, 1, 3, 2, 3, 2, 2, 3, 1, 1, 2, 1, 3, 3, 3, 2, 2, 2, 3, 1, 1, 1, 2, 1, 2, 3, 3, 3, 3, 1, 1, 1, 3, 3, 2, 1, 2, 1, 2, 1, 3, 1, 1, 2, 3, 3, 1, 2, 1, 1, 2, 2, 1, 2, 1, 3, 1, 1, 1, 2, 3, 1, 2, 3, 1, 1, 2, 3, 3, 3, 0, 2, 3, 1, 2, 1, 2, 3, 2, 3, 1, 3, 2, 1, 3, 3, 2, 3, 3, 3, 1, 3, 1, 2, 2, 1, 2, 3, 3, 1, 3, 3, 2, 1, 3, 3, 1, 2, 2, 2, 2, 1, 2, 2, 2, 2, 3, 1, 3, 3, 1, 0, 3, 2, 3, 2, 1, 1, 3, 1, 1, 2, 1, 3, 2, 2, 1, 2, 2, 3, 2, 2, 2, 3, 3, 2, 3, 1, 3, 1, 3, 1, 1, 1, 2, 3, 2, 2, 1, 3, 2, 1, 3, 2, 2, 3, 1, 3, 1, 1, 1, 1, 2, 1, 1, 1, 2, 3, 2, 2, 2, 1, 2, 1, 2, 1, 2, 1, 2, 3, 1, 3, 2, 3, 1, 1, 2, 1, 2, 3, 1, 2, 2, 1, 3, 1, 2, 3, 1, 1, 1, 1, 1, 3, 1, 1, 1, 1, 3, 1, 3, 1, 1, 3, 3, 1, 3, 2, 3, 2, 1, 3, 2, 2, 1, 2, 1, 1, 2, 2, 2, 1, 3, 1, 1, 3, 1, 3, 3, 1, 2, 3, 1, 2, 3, 1, 3, 1, 1, 3, 1, 2, 3, 3, 2, 1, 3, 1, 2, 1, 1, 2, 3, 1, 3, 2, 3, 1, 1, 2, 2, 3, 1, 1, 3, 1, 3, 1, 1, 3, 2, 2, 1, 2, 3, 1, 3, 3, 2, 2, 2, 1, 3, 3, 1, 1, 1, 3, 2, 2, 1, 3, 1, 1, 3, 1, 1, 2, 2, 1, 3, 2, 1, 1, 2, 1, 2, 2, 2, 1, 1, 3, 3, 2, 3, 3, 1, 3, 1, 1, 0, 3, 2, 1, 1, 1, 2, 2, 3, 2, 3, 3, 2, 1, 1, 3, 1, 1, 3, 3, 2, 3, 1, 2, 2, 1, 3, 2, 3, 2, 3, 2, 1, 1, 3, 1, 3, 3, 3, 3, 3, 1, 3, 3, 3, 2, 2, 2, 3, 3, 2, 2, 2, 3, 2, 3, 3, 3, 2, 2, 2, 1, 2, 2, 1, 3, 3, 3, 3, 2, 1, 2, 2, 3, 1, 3, 3, 1, 3, 1, 1, 1, 1, 2, 2, 1, 3, 2, 3, 1, 3, 2, 2, 1, 1, 1, 3, 3, 3, 1, 1, 1, 3, 3, 3, 3, 1, 3, 1, 3, 3, 3, 3, 3, 3, 1, 1, 3, 3, 2, 1, 2, 1, 2, 2, 1, 3, 2, 1, 2, 2, 1, 2, 2, 3, 0, 2, 1, 1, 1, 2, 3, 3, 2, 3, 2, 3, 2, 3, 2, 3, 2, 1, 1, 1, 2, 0, 2, 2, 3, 1, 2, 3, 2, 3, 3, 3, 3, 3, 1, 1, 2, 2, 2, 2, 3, 1, 3, 1, 1, 3, 2, 3, 1, 2, 1, 3, 2, 3, 3, 3, 3, 2, 2, 3, 3, 2, 1, 1, 1, 3, 3, 3, 3, 3, 3, 1, 2, 2, 1, 1, 3, 2, 2, 1, 1, 3, 2, 2, 3, 1, 3, 2, 2, 1, 1, 1, 3, 2, 3, 2, 3, 3, 1, 2, 1, 1, 3, 3, 3, 3, 1, 1, 3, 2, 1, 2, 3, 1, 2, 2, 2, 2, 2, 3, 3, 2, 2, 1, 3, 1, 1, 2, 2, 3, 2, 2, 2, 1, 2, 2, 1, 2, 1, 2, 3, 2, 1, 3, 3, 1, 1, 2, 3, 3, 1, 2, 3, 2, 3, 2, 1, 1, 2, 2, 3, 3, 2, 1, 1, 1, 2, 2, 2, 1, 2, 3, 1, 2, 1, 1, 2, 2, 1, 3, 1, 3, 1, 2, 1, 3, 1, 1, 2, 2, 2, 1, 2, 1, 2, 1, 3, 1, 1, 2, 1, 1, 2, 3, 1, 2, 2, 1, 1, 1, 3, 3, 1, 1, 2, 1, 2, 2, 1, 3, 1, 2, 2, 1, 1, 1, 3, 2, 2, 2, 2, 3, 3, 3, 1, 3, 1, 2, 2, 3, 1, 1, 1, 1, 2, 2, 1, 2, 1, 2, 3, 2, 1, 1, 2, 1, 1, 3, 3, 1, 3, 0, 3, 3, 2, 1, 1, 3, 1, 3, 1, 3, 3, 2, 2, 3, 3, 2, 1, 2, 2, 3, 3, 3, 2, 3, 3, 2, 1, 3, 3, 3, 2, 3, 2, 1, 3, 1, 1, 2, 2, 3, 1, 2, 1, 1, 1, 2, 1, 3, 2, 3, 3, 1, 1, 3, 3, 1, 1, 2, 1, 1, 3, 3, 1, 1, 1, 2, 1, 1, 2, 3, 2, 2, 2, 2, 1, 3, 2, 1, 3, 1, 3, 2, 1, 1, 3, 1, 3, 1, 1, 1, 2, 1, 3, 1, 2, 2, 3, 2, 1, 1, 2, 2, 2, 2, 2, 1, 3, 1, 1, 3, 1, 2, 1, 1, 2, 1, 2, 2, 1, 1, 2, 3, 1, 3, 3, 3, 2, 1, 2, 1, 2, 1, 3, 3, 2, 3, 3, 3, 3, 1, 3, 2, 1, 3, 1, 1, 2, 2, 3, 3, 1, 1, 3, 3, 1, 1, 3, 2, 3, 2, 2, 1, 1, 2, 1, 2, 2, 2, 3, 1, 2, 1, 2, 3, 1, 3, 3, 3, 3, 1, 3, 3, 3, 3, 3, 1, 3, 3, 2, 2, 2, 3, 2, 1, 2, 1, 3, 2, 1, 3, 1, 2, 1, 1, 1, 2, 1, 3, 0, 3, 3, 0, 1, 3, 2, 3, 1, 2, 3, 2, 3, 2, 1, 1, 2, 3, 2, 1, 3, 3, 3, 1, 3, 1, 3, 2, 2, 3, 2, 1, 2, 1, 1, 2, 1, 2, 2, 3, 1, 3, 1, 1, 1, 1, 3, 1, 3, 1, 2, 1, 3, 2, 2, 2, 1, 2, 3, 3, 1, 2, 1, 3, 1, 2, 2, 2, 1, 2, 1, 3, 3, 1, 1, 3, 1, 1, 3, 3, 1, 1, 3, 3, 1, 1, 3, 2, 2, 3, 1, 1, 1, 3, 2, 1, 1, 3, 2, 3, 1, 3, 2, 2, 3, 1, 1, 3, 2, 1, 2, 3, 3, 3, 3, 2, 1, 1, 1, 3, 3, 3, 1, 1, 2, 2, 1, 1, 2, 2, 3, 1, 2, 3, 1, 1, 2, 1, 1, 1, 1, 2, 2, 2, 3, 1, 3, 1, 2, 3, 2, 3, 1, 3, 3, 3, 1, 1, 2, 2, 1, 3, 1, 3, 3, 2, 1, 2, 2, 3, 1, 3, 2, 2, 2, 3, 1, 1, 2, 1, 3, 1, 1, 2, 1, 2, 2, 1, 1, 3, 3, 1, 2, 1, 3, 1, 3, 3, 1, 3, 2, 2, 2, 1, 2, 1, 3, 1, 1, 2, 1, 3, 1, 1, 1, 1, 2, 3, 3, 1, 3, 1, 1, 2, 2, 2, 1, 2, 2, 3, 3, 3, 2, 2, 2, 3, 1, 1, 3, 2, 2, 3, 3, 3, 1, 2, 2, 1, 3, 3, 1, 3, 2, 1, 3, 3, 1, 2, 3, 1, 3, 3, 2, 1, 2, 2, 1, 3, 2, 2, 2, 2, 2, 1, 1, 3, 3, 1, 3, 2, 2, 1, 3, 2, 1, 1, 3, 1, 3, 1, 2, 3, 1, 2, 3, 1, 1, 1, 2, 2, 2, 1, 2, 1, 3, 3, 3, 2, 2, 1, 2, 1, 1, 1, 3, 1, 3, 3, 3, 1, 3, 2, 1, 1, 2, 2, 3, 1, 1, 2, 2, 1, 3, 3, 1, 2, 1, 1, 1, 2, 3, 3, 3, 3, 3, 1, 1, 0, 1, 2, 2, 3, 1, 3, 1, 2, 3, 2, 1, 2, 2, 2, 1, 2, 1, 1, 1, 1, 1, 2, 1, 1, 2, 3, 2, 0, 1, 3, 1, 1, 1, 3, 3, 1, 2, 1, 3, 2, 1, 1, 3, 3, 3, 1, 1, 1, 2, 2, 1, 2, 1, 3, 2, 3, 1, 2, 3, 1, 2, 1, 2, 1, 1, 1, 1, 1, 3, 3, 2, 3, 1, 1, 2, 2, 3, 2, 2, 2, 3, 1, 2, 1, 2, 3, 2, 2, 3, 2, 3, 3, 1, 1, 1, 2, 2, 1, 3, 1, 3, 3, 2, 1, 2, 2, 3, 1, 2, 2, 1, 2, 3, 2, 2, 1, 1, 3, 3, 2, 3, 1, 1, 1, 2, 1, 3, 3, 2, 3, 3, 2, 2, 3, 1, 1, 3, 3, 1, 1, 3, 2, 1, 3, 3, 1, 3, 1, 2, 1, 3, 2, 1, 1, 3, 1, 2, 1, 2, 1, 1, 1, 2, 3, 1, 1, 2, 2, 1, 2, 1, 3, 2, 2, 3, 1, 3, 3, 2, 1, 1, 1, 2, 2, 3, 3, 1, 1, 1, 2, 1, 3, 2, 1, 1, 3, 2, 2, 1, 1, 1, 1, 1, 2, 3, 3, 3, 3, 1, 3, 1, 3, 3, 3, 1, 2, 1, 1, 2, 3, 2, 1, 1, 3, 3, 3, 1, 3, 1, 1, 1, 3, 2, 1, 1, 2, 3, 2, 3, 3, 2, 2, 3, 3, 3, 1, 1, 2, 1, 1, 3, 1, 1, 3, 2, 2, 2, 2, 1, 2, 1, 3, 2, 2, 1, 3, 2, 1, 1, 3, 2, 2, 2, 1, 3, 2, 2, 2, 2, 1, 2, 3, 2, 3, 1, 1, 2, 1, 1, 2, 1, 3, 1, 1, 3, 1, 1, 3, 2, 2, 2, 3, 2, 2, 1, 3, 3, 1, 3, 2, 3, 1, 3, 1, 3, 3, 1, 3, 3, 3, 1, 2, 3, 2, 2, 3, 1, 1, 2, 3, 2, 2, 3, 3, 3, 1, 1, 3, 1, 3, 3, 2, 1, 2, 3, 1, 1, 3, 3, 3, 3, 3, 2, 2, 3, 3, 3, 1, 1, 2, 3, 2, 3, 3, 1, 2, 1, 1, 2, 3, 2, 3, 3, 1, 1, 2, 2, 2, 2, 3, 3, 1, 1, 1, 1, 2, 2, 1, 2, 2, 1, 2, 3, 1, 1, 2, 1, 2, 3, 1, 3, 1, 1, 2, 3, 2, 1, 3, 2, 3, 3, 3, 3, 0, 2, 1, 3, 1, 1, 1, 2, 3, 3, 1, 1, 2, 3, 1, 3, 2, 1, 2, 2, 3, 3, 1, 3, 2, 2, 3, 1, 3, 2, 1, 2, 2, 3, 2, 3, 1, 1, 2, 1, 3, 2, 2, 3, 3, 1, 3, 2, 1, 3, 1, 1, 3, 3, 2, 3, 1, 3, 1, 1, 2, 1, 2, 3, 3, 3, 1, 1, 2, 1, 1, 1, 2, 2, 1, 1, 3, 1, 1, 1, 3, 1, 3, 2, 3, 2, 1, 3, 1, 3, 3, 1, 3, 3, 3, 1, 1, 2, 1, 0, 1, 2, 2, 1, 3, 1, 1, 3, 3, 2, 1, 2, 2, 1, 2, 2, 0, 1, 1, 2, 2, 1, 2, 3, 2, 2, 1, 2, 1, 2, 2, 2, 3, 3, 2, 1, 2, 1, 3, 3, 3, 2, 3, 2, 1, 3, 3, 1, 2, 3, 1, 1, 3, 2, 3, 1, 2, 2, 1, 1, 3, 3, 3, 3, 1, 3, 2, 2, 3, 1, 3, 1, 3, 3, 1, 1, 3, 3, 3, 1, 2, 2, 1, 2, 1, 2, 1, 2, 2, 2, 3, 2, 2, 3, 1, 2, 3, 3, 3, 3, 3, 2, 3, 1, 2, 1, 3, 1, 2, 3, 1, 1, 1, 3, 2, 3, 1, 2, 2, 3, 2, 2, 3, 1, 2, 3, 3, 1, 3, 1, 2, 3, 1, 3, 2, 1, 3, 3, 1, 3, 3, 2, 1, 3, 1, 1, 1, 2, 1, 2, 2, 3, 0, 2, 2, 2, 1, 1, 1, 1, 3, 1, 2, 3, 2, 2, 1, 2, 3, 3, 1, 1, 3, 1, 1, 1, 2, 2, 2, 1, 1, 0, 2, 3, 1, 3, 1, 2, 1, 1, 2, 2, 1, 2, 1, 2, 3, 3, 2, 1, 2, 1, 3, 0, 2, 2, 3, 3, 1, 3, 0, 3, 2, 1, 1, 3, 3, 2, 1, 1, 3, 3, 3, 2, 1, 2, 3, 2, 2, 3, 3, 2, 3, 3, 3, 3, 2, 3, 2, 3, 3, 3, 2, 2, 2, 1, 2, 1, 2, 1, 3, 3, 1, 3, 1, 2, 2, 2, 3, 2, 1, 1, 2, 1, 1, 2, 2, 3, 3, 2, 2, 2, 2, 2, 3, 1, 2, 2, 3, 1, 1, 3, 2, 2, 1, 3, 1, 2, 3, 1, 3, 1, 1, 3, 1, 2, 1, 3, 0, 1, 3, 3, 2, 1, 1, 1, 3, 3, 3, 3, 2, 3, 1, 2, 3, 2, 3, 1, 3, 1, 1, 1, 2, 1, 1, 1, 2, 2, 1, 2, 2, 3, 2, 3, 3, 3, 2, 3, 1, 3, 2, 3, 3, 2, 2, 3, 3, 1, 2, 2, 1, 2, 1, 1, 3, 3, 2, 1, 1, 1, 1, 2, 1, 1, 1, 1, 3, 3, 2, 2, 2, 1, 1, 3, 3, 3, 3, 2, 3, 1, 2, 1, 2, 3, 3, 2, 1, 3, 3, 2, 1, 3, 2, 2, 1, 1, 3, 3, 1, 3, 2, 3, 3, 3, 3, 1, 1, 1, 1, 1, 1, 2, 1, 3, 1, 2, 1, 3, 3, 3, 1, 1, 2, 2, 3, 1, 2, 1, 2, 3, 1, 1, 1, 1, 2, 1, 2, 1, 3, 3, 1, 2, 3, 3, 2, 1, 3, 2, 3, 3, 1, 1, 3, 3, 2, 2, 1, 1, 2, 3, 3, 1, 3, 1, 1, 1, 2, 2, 2, 1, 1, 3, 3, 1, 3, 1, 3, 2, 1, 1, 2, 2, 2, 1, 1, 1, 1, 3, 1, 1, 1, 1, 2, 1, 3, 2, 2, 1, 3, 3, 3, 3, 1, 2, 3, 3, 3, 1, 3, 1, 3, 3, 2, 3, 3, 3, 3, 3, 1, 2, 2, 2, 2, 2, 1, 1, 1, 2, 1, 1, 2, 1, 2, 1, 1, 3, 2, 2, 2, 2, 3, 1, 3, 2, 1, 3, 1, 1, 2, 3, 3, 3, 3, 3, 3, 3, 2, 3, 2, 1, 1, 1, 1, 2, 2, 3, 3, 1, 1, 1, 1, 1, 1, 3, 1, 1, 1, 1, 1, 1, 0, 1, 2, 3, 2, 2, 3, 3, 2, 1, 1, 1, 1, 3, 1, 2, 3, 1, 2, 3, 1, 2, 3, 2, 1, 1, 2, 3, 1, 2, 3, 1, 2, 2, 1, 3, 2, 1, 3, 1, 3, 1, 2, 3, 1, 2, 1, 3, 1, 1, 1, 3, 3, 1, 3, 3, 3, 2, 2, 3, 2, 1, 1, 2, 3, 3, 1, 2, 3, 3, 3, 2, 2, 2, 1, 2, 2, 2, 2, 3, 1, 1, 3, 3, 3, 1, 1, 2, 1, 3, 1, 1, 3, 2, 1, 1, 3, 2, 2, 1, 2, 3, 2, 3, 1, 3, 1, 1, 2, 3, 3, 2, 1, 3, 2, 3, 2, 1, 2, 1, 1, 1, 1, 2, 2, 1, 1, 1, 1, 3, 3, 2, 1, 2, 1, 3, 3, 3, 1, 3, 1, 3, 3, 2, 0, 1, 3, 3, 1, 1, 3, 1, 1, 2, 2, 3, 1, 2, 1, 3, 1, 2, 3, 1, 1, 1, 1, 2, 2, 3, 3, 2, 1, 1, 1, 1, 1, 3, 1, 1, 3, 2, 2, 2, 1, 3, 2, 1, 1, 2, 2, 2, 1, 2, 2, 2, 3, 2, 3, 1, 3, 1, 1, 1, 1, 1, 2, 3, 3, 0, 1, 2, 1, 1, 2, 1, 3, 2, 2, 3, 1, 3, 3, 1, 1, 2, 1, 2, 2, 2, 3, 2, 2, 3, 2, 3, 1, 1, 3, 2, 1, 3, 3, 2, 2, 1, 1, 1, 3, 1, 1, 3, 1, 1, 1, 1, 3, 2, 1, 0, 2, 3, 2, 1, 3, 3, 2, 1, 1, 2, 1, 3, 1, 1, 3, 1, 1, 2, 1, 3, 0, 3, 3, 0, 3, 2, 1, 3, 1, 3, 1, 2, 1, 3, 1, 3, 3, 2, 1, 2, 2, 1, 3, 3, 2, 1, 1, 3, 2, 1, 1, 3, 2, 1, 2, 2, 3, 1, 3, 1, 1, 3, 2, 3, 3, 1, 1, 2, 2, 1, 3, 2, 1, 1, 1, 3, 1, 1, 3, 3, 3, 1, 1, 1, 3, 3, 1, 2, 2, 3, 2, 1, 1, 3, 3, 1, 1, 2, 3, 3, 1, 1, 1, 2, 1, 2, 2, 1, 3, 3, 2, 3, 1, 3, 3, 1, 3, 1, 3, 1, 1, 1, 2, 1, 2, 2, 2, 1, 1, 1, 3, 3, 1, 2, 2, 1, 2, 3, 3, 2, 2, 3, 3, 3, 3, 1, 2, 3, 3, 1, 3, 3, 1, 3, 2, 1, 1, 1, 2, 1, 3, 1, 1, 3, 2, 3, 2, 1, 2, 1, 2, 1, 2, 1, 3, 2, 2, 1, 3, 2, 2, 3, 2, 3, 3, 3, 1, 1, 3, 3, 2, 3, 3, 1, 3, 2, 2, 1, 3, 1, 2, 2, 2, 1, 2, 1, 1, 2, 2, 2, 3, 2, 2, 1, 3, 3, 2, 1, 1, 3, 1, 3, 2, 1, 3, 1, 1, 3, 2, 1, 2, 2, 3, 1, 1, 3, 1, 1, 1, 2, 2, 1, 2, 1, 1, 1, 3, 3, 3, 3, 1, 0, 0, 1, 2, 2, 1, 3, 1, 3, 3, 1, 1, 1, 3, 2, 3, 1, 3, 1, 3, 2, 2, 3, 1, 2, 2, 1, 1, 1, 2, 1, 2, 2, 3, 3, 1, 2, 1, 3, 3, 2, 3, 3, 3, 2, 3, 1, 1, 1, 3, 1, 3, 2, 3, 3, 3, 1, 1, 1, 3, 2, 1, 1, 1, 3, 1, 1, 2, 3, 1, 3, 1, 2, 1, 2, 1, 2, 1, 3, 3, 2, 3, 2, 2, 3, 2, 1, 2, 3, 1, 3, 3, 3, 2, 2, 3, 3, 3, 2, 3, 3, 3, 3, 3, 2, 1, 2, 3, 1, 3, 3, 3, 3, 1, 3, 1, 1, 1, 2, 1, 3, 1, 1, 3, 1, 2, 3, 3, 1, 3, 2, 1, 3, 2, 1, 3, 1, 2, 2, 3, 3, 1, 1, 3, 2, 1, 3, 1, 3, 3, 1, 2, 3, 3, 2, 1, 1, 3, 1, 3, 3, 1, 2, 3, 2, 3, 2, 2, 1, 1, 1, 2, 3, 3, 1, 3, 3, 1, 2, 1, 2, 3, 3, 3, 1, 3, 1, 2, 2, 1, 1, 2, 1, 3, 1, 2, 3, 1, 2, 1, 1, 1, 2, 3, 2, 2, 1, 2, 1, 2, 3, 1, 3, 2, 2, 1, 1, 1, 1, 3, 1, 3, 2, 3, 1, 2, 3, 1, 2, 3, 2, 3, 2, 3, 2, 1, 3, 3, 3, 3, 1, 2, 3, 3, 1, 3, 2, 1, 1, 3, 1, 2, 3, 2, 1, 3, 3, 2, 3, 2, 3, 3, 3, 2, 1, 3, 3, 2, 3, 1, 1, 3, 3, 3, 2, 3, 2, 1, 1, 3, 2, 2, 1, 3, 3, 3, 2, 3, 1, 3, 2, 2, 3, 3, 2, 3, 2, 1, 3, 1, 2, 1, 3, 3, 3, 2, 3, 1, 3, 2, 1, 3, 2, 1, 2, 3, 1, 1, 1, 1, 2, 1, 1, 3, 2, 3, 1, 2, 3, 3, 3, 3, 2, 2, 1, 2, 1, 1, 2, 1, 3, 1, 2, 2, 3, 2, 1, 3, 1, 2, 3, 2, 3, 2, 1, 3, 3, 2, 3, 1, 2, 1, 3, 2, 1, 1, 3, 3, 1, 2, 3, 3, 2, 2, 3, 2, 1, 3, 1, 3, 1, 2, 3, 1, 3, 3, 1, 3, 1, 1, 2, 1, 1, 3, 1, 1, 3, 2, 1, 1, 2, 1, 1, 2, 2, 3, 2, 2, 2, 3, 2, 2, 1, 1, 3, 2, 3, 2, 2, 2, 2, 2, 1, 1, 1, 3, 1, 1, 2, 3, 2, 1, 1, 3, 2, 1, 1, 3, 2, 3, 2, 1, 1, 1, 0, 3, 2, 3, 3, 3, 3, 3, 1, 1, 3, 3, 1, 3, 3, 1, 2, 1, 2, 2, 1, 0, 1, 2, 3, 1, 2, 1, 1, 3, 1, 2, 1, 1, 1, 1, 2, 3, 2, 1, 1, 3, 2, 3, 2, 3, 3, 3, 3, 1, 3, 1, 3, 1, 1, 2, 3, 2, 1, 1, 1, 3, 1, 3, 3, 1, 1, 2, 3, 2, 1, 1, 2, 3, 3, 3, 1, 3, 1, 1, 1, 2, 2, 2, 3, 3, 1, 3, 0, 3, 3, 1, 2, 3, 3, 1, 2, 2, 1, 3, 1, 3, 2, 3, 3, 1, 1, 2, 3, 2, 1, 2, 3, 2, 3, 3, 3, 2, 2, 3, 1, 2, 1, 2, 2, 2, 2, 2, 1, 1, 1, 1, 2, 1, 3, 2, 1, 2, 1, 1, 2, 1, 1, 3, 1, 1, 1, 2, 3, 3, 3, 1, 3, 3, 2, 2, 3, 3, 2, 1, 1, 3, 3, 1, 1, 2, 2, 3, 3, 2, 3, 3, 2, 2, 3, 1, 1, 1, 2, 1, 1, 2, 2, 1, 3, 1, 2, 1, 1, 1, 2, 3, 1, 3, 3, 3, 2, 3, 3, 2, 2, 3, 1, 3, 3, 1, 3, 2, 2, 3, 3, 1, 1, 2, 1, 1, 1, 2, 2, 3, 2, 3, 1, 1, 3, 0, 3, 2, 2, 3, 2, 2, 3, 3, 1, 1, 2, 3, 1, 3, 3, 2, 3, 1, 3, 2, 3, 2, 2, 2, 3, 1, 2, 1, 3, 1, 3, 1, 1, 3, 2, 3, 1, 3, 3, 3, 1, 3, 1, 1, 3, 1, 1, 3, 2, 1, 3, 1, 3, 3, 3, 2, 1, 2, 2, 2, 3, 2, 3, 1, 2, 2, 3, 1, 2, 2, 1, 2, 1, 3, 3, 2, 2, 2, 2, 1, 1, 3, 3, 3, 1, 1, 1, 2, 3, 2, 2, 2, 0, 1, 2, 3, 2, 1, 2, 1, 2, 1, 3, 2, 2, 3, 2, 2, 1, 3, 3, 1, 1, 2, 2, 2, 1, 2, 1, 2, 3, 2, 2, 3, 3, 3, 2, 2, 2, 3, 2, 1, 3, 1, 1, 3, 2, 1, 2, 1, 2, 3, 1, 2, 3, 2, 1, 2, 3, 1, 1, 2, 2, 3, 1, 3, 3, 3, 1, 1, 2, 2, 2, 3, 1, 2, 1, 1, 3, 1, 2, 2, 1, 2, 3, 3, 1, 3, 2, 1, 2, 3, 2, 3, 1, 2, 2, 2, 2, 2, 1, 2, 3, 2, 1, 2, 3, 3, 2, 3, 2, 1, 1, 2, 2, 3, 3, 1, 2, 1, 2, 2, 2, 3, 2, 3, 3, 3, 1, 2, 3, 3, 1, 2, 2, 2, 2, 2, 3, 3, 1, 3, 3, 2, 3, 2, 2, 1, 1, 2, 2, 3, 2, 2, 2, 2, 2, 1, 1, 1, 1, 2, 3, 1, 2, 1, 1, 3, 1, 2, 1, 3, 3, 3, 3, 1, 3, 3, 1, 1, 2, 1, 2, 1, 1, 3, 3, 3, 1, 2, 3, 3, 3, 3, 1, 3, 1, 2, 3, 1, 1, 1, 3, 3, 3, 3, 1, 1, 2, 3, 3, 3, 0, 0, 2, 3, 2, 3, 1, 1, 2, 2, 3, 1, 1, 1, 1, 2, 1, 2, 3, 3, 2, 2, 3, 3, 1, 1, 3, 3, 1, 1, 1, 2, 2, 1, 3, 0, 1, 2, 1, 1, 2, 1, 2, 3, 2, 2, 3, 3, 2, 3, 2, 3, 1, 0, 3, 3, 1, 3, 1, 3, 3, 2, 1, 1, 1, 1, 2, 3, 3, 1, 2, 1, 3, 3, 3, 1, 1, 1, 2, 1, 3, 2, 3, 1, 2, 1, 3, 3, 3, 1, 1, 2, 1, 1, 3, 1, 1, 1, 3, 3, 3, 3, 1, 1, 1, 2, 3, 2, 3, 0, 2, 2, 3, 3, 3, 1, 2, 2, 3, 1, 3, 1, 3, 2, 3, 3, 3, 3, 1, 2, 2, 3, 3, 3, 2, 2, 3, 2, 3, 3, 2, 1, 3, 3, 1, 3, 1, 1, 1, 3, 1, 2, 3, 1, 3, 3, 3, 1, 1, 3, 3, 2, 3, 2, 3, 1, 1, 2, 3, 2, 2, 3, 3, 1, 1, 1, 1, 1, 3, 3, 3, 3, 3, 1, 1, 1, 2, 1, 1, 3, 2, 3, 1, 1, 2, 1, 3, 2, 3, 1, 3, 1, 1, 3, 3, 2, 2, 3, 1, 3, 3, 1, 1, 1, 3, 1, 1, 2, 3, 3, 3, 3, 2, 1, 2, 2, 2, 1, 2, 3, 1, 3, 2, 1, 3, 3, 0, 3, 2, 2, 2, 3, 1, 2, 3, 1, 3, 1, 1, 3, 2, 3, 3, 1, 2, 2, 2, 1, 3, 1, 2, 1, 2, 1, 2, 3, 2, 3, 2, 3, 3, 3, 3, 3, 2, 1, 2, 2, 3, 2, 3, 3, 1, 2, 1, 2, 1, 1, 3, 2, 2, 3, 2, 1, 2, 2, 3, 2, 3, 1, 1, 1, 3, 3, 3, 3, 1, 3, 3, 1, 1, 2, 3, 3, 2, 3, 1, 2, 1, 1, 3, 1, 3, 1, 3, 3, 2, 2, 1, 2, 2, 3, 3, 2, 3, 2, 1, 3, 2, 1, 1, 3, 1, 3, 2, 1, 1, 2, 1, 1, 3, 1, 3, 0, 2, 1, 2, 2, 2, 1, 1, 3, 1, 2, 1, 3, 3, 3, 2, 1, 1, 3, 3, 1, 3, 1, 1, 3, 2, 2, 1, 1, 3, 3, 1, 3, 3, 3, 1, 1, 1, 2, 2, 2, 2, 1, 1, 2, 3, 3, 1, 1, 2, 2, 1, 3, 2, 1, 3, 1, 3, 2, 3, 1, 3, 3, 1, 3, 3, 2, 2, 3, 3, 1, 1, 2, 3, 1, 2, 1, 1, 3, 1, 2, 1, 2, 0, 3, 1, 1, 2, 3, 1, 3, 2, 3, 1, 1, 2, 3, 1, 1, 1, 1, 2, 2, 2, 3, 2, 3, 2, 2, 2, 1, 1, 2, 1, 1, 3, 1, 1, 3, 2, 0, 1, 3, 1, 2, 1, 3, 1, 1, 0, 3, 3, 2, 2, 2, 3, 0, 3, 1, 1, 2, 1, 1, 3, 3, 3, 2, 2, 1, 3, 2, 2, 1, 1, 3, 3, 3, 2, 3, 3, 1, 3, 1, 3, 3, 1, 1, 1, 1, 3, 1, 1, 3, 1, 1, 1, 3, 1, 1, 1, 1, 1, 2, 1, 1, 2, 1, 1, 1, 1, 1, 2, 2, 1, 1, 2, 2, 1, 2, 3, 2, 2, 1, 2, 2, 1, 2, 2, 2, 1, 0, 2, 1, 3, 1, 3, 1, 2, 0, 0, 3, 3, 3, 3, 1, 2, 1, 2, 1, 1, 3, 2, 2, 1, 3, 2, 2, 1, 2, 1, 2, 3, 3, 1, 1, 2, 2, 2, 1, 2, 2, 2, 3, 1, 1, 0, 1, 3, 3, 2, 2, 3, 3, 2, 2, 2, 3, 3, 3, 1, 3, 2, 3, 3, 3, 2, 2, 1, 2, 3, 3, 2, 2, 2, 3, 3, 2, 1, 1, 2, 1, 1, 2, 1, 1, 1, 1, 2, 2, 2, 1, 1, 1, 2, 2, 3, 1, 3, 1, 2, 1, 3, 1, 3, 1, 2, 1, 2, 1, 1, 3, 3, 3, 3, 2, 1, 2, 2, 1, 2, 2, 2, 3, 1, 2, 1, 2, 1, 2, 3, 1, 3, 2, 2, 3, 1, 3, 1, 1, 1, 1, 1, 1, 3, 2, 2, 2, 3, 2, 2, 2, 3, 2, 1, 1, 3, 1, 3, 1, 3, 1, 1, 3, 3, 1, 3, 2, 2, 3, 2, 1, 1, 3, 3, 3, 3, 2, 3, 2, 3, 2, 1, 2, 3, 2, 1, 1, 3, 1, 1, 1, 1, 3, 3, 1, 2, 3, 3, 3, 2, 3, 2, 3, 2, 2, 3, 1, 1, 2, 1, 1, 2, 2, 3, 3, 2, 3, 1, 3, 1, 3, 1, 3, 2, 3, 3, 3, 3, 2, 1, 1, 3, 3, 3, 2, 1, 1, 1, 2, 1, 3, 2, 1, 3, 1, 1, 1, 2, 2, 1, 3, 1, 3, 2, 1, 2, 2, 3, 2, 3, 3, 1, 3, 1, 1, 3, 3, 2, 2, 2, 2, 1, 2, 2, 3, 3, 3, 1, 3, 2, 1, 2, 2, 3, 3, 2, 2, 2, 0, 3, 3, 1, 3, 1, 3, 2, 3, 1, 3, 1, 1, 3, 1, 1, 3, 2, 3, 2, 1, 3, 2, 3, 1, 1, 1, 2, 2, 1, 1, 3, 3, 1, 3, 3, 1, 2, 2, 3, 3, 1, 3, 2, 1, 2, 3, 3, 2, 2, 3, 3, 1, 3, 1, 3, 3, 3, 2, 2, 2, 2, 3, 3, 2, 1, 3, 3, 1, 1, 2, 2, 1, 3, 3, 2, 3, 1, 1, 3, 1, 1, 2, 3, 2, 3, 2, 3, 3, 2, 1, 0, 2, 2, 1, 2, 3, 0, 3, 2, 1, 3, 3, 2, 1, 1, 3, 3, 2, 1, 2, 2, 2, 1, 3, 2, 1, 2, 0, 0, 1, 1, 2, 3, 1, 2, 1, 3, 3, 3, 3, 2, 1, 2, 1, 3, 1, 2, 2, 1, 3, 3, 3, 3, 1, 3, 2, 3, 1, 1, 1, 1, 3, 1, 3, 3, 1, 3, 2, 3, 1, 3, 1, 2, 3, 1, 1, 3, 2, 3, 2, 3, 3, 3, 3, 2, 3, 2, 1, 1, 2, 1, 1, 2, 3, 1, 2, 2, 2, 1, 3, 2, 1, 3, 1, 1, 1, 1, 3, 1, 3, 1, 3, 3, 2, 1, 1, 2, 1, 3, 1, 2, 2, 3, 2, 1, 1, 3, 1, 3, 2, 1, 1, 1, 3, 1, 2, 1, 3, 3, 2, 3, 3, 3, 1, 1, 3, 2, 1, 1, 2, 1, 3, 3, 1, 2, 2, 1, 3, 3, 2, 2, 3, 1, 1, 1, 2, 1, 3, 3, 3, 2, 3, 1, 3, 0, 3, 3, 1, 1, 2, 3, 3, 3, 1, 1, 1, 1, 3, 1, 3, 3, 2, 2, 1, 3, 2, 3, 3, 1, 1, 3, 3, 1, 3, 2, 3, 3, 1, 2, 2, 3, 2, 1, 3, 1, 3, 1, 3, 2, 2, 1, 3, 1, 1, 2, 2, 1, 3, 1, 2, 2, 2, 1, 2, 1, 1, 1, 1, 2, 1, 1, 1, 2, 3, 1, 2, 3, 2, 2, 2, 1, 3, 1, 1, 1, 3, 3, 1, 2, 1, 2, 2, 3, 1, 1, 1, 1, 3, 3, 3, 3, 1, 3, 1, 1, 2, 3, 1, 1, 1, 3, 3, 2, 2, 3, 3, 3, 3, 1, 2, 2, 1, 2, 1, 1, 1, 3, 1, 3, 2, 3, 3, 2, 3, 1, 2, 2, 1, 3, 3, 2, 1, 3, 3, 1, 2, 1, 2, 2, 1, 1, 3, 1, 3, 1, 1, 3, 3, 3, 1, 3, 1, 3, 2, 1, 1, 3, 1, 2, 2, 1, 1, 3, 2, 3, 3, 2, 1, 1, 1, 2, 1, 3, 1, 1, 1, 1, 2, 3, 1, 2, 2, 1, 1, 3, 3, 3, 3, 1, 2, 3, 2, 3, 2, 2, 2, 3, 1, 1, 1, 3, 2, 3, 1, 1, 2, 3, 2, 1, 2, 1, 3, 2, 1, 1, 1, 1, 3, 2, 3, 2, 3, 3, 1, 3, 3, 2, 1, 1, 2, 3, 3, 3, 3, 1, 3, 2, 2, 1, 3, 3, 3, 3, 1, 1, 3, 1, 3, 2, 3, 1, 3, 3, 3, 2, 1, 1, 3, 2, 3, 2, 1, 3, 1, 2, 1, 3, 3, 0, 3, 1, 3, 2, 1, 3, 2, 1, 2, 3, 3, 1, 2, 3, 2, 2, 2, 2, 1, 2, 2, 1, 3, 3, 2, 3, 1, 3, 1, 1, 3, 3, 3, 2, 1, 1, 2, 3, 3, 1, 2, 1, 3, 1, 2, 3, 1, 1, 1, 3, 1, 1, 2, 1, 1, 2, 3, 3, 1, 2, 2, 3, 3, 3, 3, 3, 2, 3, 1, 3, 3, 1, 1, 1, 3, 1, 2, 1, 2, 1, 3, 2, 1, 3, 1, 2, 3, 1, 3, 2, 3, 3, 3, 2, 3, 3, 3, 2, 3, 1, 1, 2, 1, 3, 3, 3, 1, 3, 1, 3, 3, 3, 1, 2, 2, 1, 2, 2, 2, 1, 2, 3, 3, 1, 1, 2, 2, 1, 3, 3, 2, 1, 1, 1, 1, 2, 2, 3, 3, 2, 1, 3, 2, 1, 1, 3, 2, 2, 2, 3, 1, 2, 1, 2, 1, 1, 1, 3, 3, 2, 2, 1, 1, 2, 1, 1, 3, 3, 1, 1, 2, 1, 1, 1, 1, 1, 1, 1, 2, 1, 3, 2, 3, 1, 2, 1, 2, 2, 2, 1, 1, 3, 2, 2, 1, 2, 2, 2, 2, 1, 1, 3, 2, 2, 3, 3, 2, 3, 3, 2, 1, 2, 3, 2, 2, 1, 2, 3, 3, 2, 1, 1, 2, 3, 2, 3, 1, 1, 3, 1, 1, 1, 2, 3, 3, 1, 1, 1, 3, 2, 1, 1, 2, 2, 2, 2, 1, 1, 1, 1, 2, 2, 2, 3, 2, 2, 3, 3, 1, 2, 3, 1, 3, 1, 1, 3, 3, 2, 3, 1, 2, 1, 3, 1, 1, 1, 2, 3, 2, 2, 2, 2, 3, 3, 3, 3, 1, 2, 3, 2, 3, 3, 1, 3, 1, 2, 3, 2, 3, 1, 3, 1, 1, 1, 2, 3, 1, 1, 2, 3, 2, 2, 1, 2, 2, 2, 2, 3, 3, 1, 1, 3, 2, 2, 1, 3, 1, 2, 1, 2, 3, 3, 1, 3, 1, 0, 2, 2, 2, 3, 3, 3, 3, 3, 1, 1, 3, 1, 3, 1, 2, 1, 2, 3, 1, 2, 1, 3, 2, 1, 3, 1, 1, 3, 2, 3, 2, 2, 1, 1, 1, 3, 3, 2, 1, 1, 2, 1, 3, 1, 1, 1, 1, 3, 1, 1, 3, 3, 3, 1, 1, 1, 1, 2, 2, 1, 3, 3, 3, 3, 2, 1, 1, 2, 2, 1, 3, 3, 3, 3, 3, 2, 2, 2, 1, 3, 3, 3, 3, 1, 3, 1, 3, 1, 3, 1, 2, 2, 3, 2, 1, 2, 1, 1, 1, 2, 1, 3, 1, 1, 1, 2, 2, 1, 1, 3, 3, 3, 1, 2, 1, 2, 2, 1, 1, 1, 1, 3, 3, 2, 2, 1, 1, 2, 3, 3, 3, 1, 1, 1, 1, 1, 1, 2, 1, 1, 1, 1, 1, 3, 3, 2, 1, 3, 1, 3, 3, 1, 2, 3, 1, 1, 2, 2, 1, 1, 2, 3, 3, 2, 1, 3, 3, 3, 1, 3, 2, 2, 2, 2, 2, 3, 2, 1, 3, 3, 1, 1, 3, 1, 3, 3, 1, 3, 2, 2, 1, 1, 3, 3, 1, 1, 1, 2, 2, 3, 3, 3, 1, 1, 2, 3, 2, 2, 1, 3, 1, 2, 3, 1, 3, 2, 3, 3, 3, 2, 3, 2, 2, 2, 2, 1, 1, 1, 2, 3, 3, 3, 2, 1, 1, 2, 2, 3, 3, 3, 3, 1, 3, 2, 1, 3, 1, 2, 1, 3, 1, 2, 2, 3, 3, 2, 3, 2, 1, 1, 2, 1, 1, 1, 1, 3, 3, 1, 1, 1, 1, 3, 1, 3, 2, 1, 3, 3, 2, 1, 2, 1, 3, 1, 2, 3, 2, 1, 2, 1, 2, 3, 1, 2, 2, 1, 2, 3, 3, 3, 3, 2, 3, 1, 2, 3, 2, 3, 2, 3, 1, 2, 1, 2, 3, 3, 3, 1, 3, 2, 1, 1, 1, 3, 2, 1, 1, 2, 2, 2, 2, 3, 1, 1, 2, 2, 3, 1, 3, 2, 3, 2, 3, 1, 3, 2, 1, 2, 2, 3, 3, 1, 2, 1, 1, 1, 3, 1, 3, 3, 3, 2, 3, 1, 1, 1, 3, 3, 1, 2, 1, 1, 1, 2, 1, 3, 3, 1, 2, 1, 2, 3, 2, 2, 1, 3, 1, 1, 1, 1, 1, 1, 3, 2, 3, 1, 1, 1, 2, 2, 2, 1, 2, 2, 1, 3, 3, 1, 3, 1, 3, 2, 2, 1, 2, 3, 3, 2, 1, 1, 1, 3, 3, 3, 1, 2, 1, 3, 1, 1, 1, 1, 3, 2, 1, 3, 3, 0, 3, 3, 1, 3, 1, 3, 1, 3, 1, 3, 1, 3, 2, 3, 3, 1, 2, 3, 1, 1, 2, 3, 3, 2, 3, 1, 1, 3, 2, 3, 1, 1, 3, 1, 3, 1, 2, 3, 1, 2, 1, 1, 1, 1, 2, 1, 3, 3, 1, 3, 2, 2, 2, 2, 3, 2, 1, 3, 2, 2, 2, 3, 1, 3, 3, 2, 2, 2, 1, 2, 0, 3, 2, 2, 1, 3, 1, 3, 3, 0, 3, 1, 3, 1, 3, 1, 3, 3, 3, 2, 1, 1, 2, 1, 2, 3, 2, 2, 2, 1, 1, 2, 2, 1, 3, 3, 2, 1, 2, 2, 1, 2, 3, 2, 3, 2, 3, 1, 3, 3, 1, 3, 3, 1, 1, 3, 1, 1, 1, 1, 3, 2, 2, 1, 2, 3, 1, 3, 1, 1, 3, 1, 1, 1, 3, 1, 3, 3, 1, 1, 2, 3, 1, 1, 2, 1, 2, 2, 3, 3, 1, 3, 1, 2, 3, 1, 1, 3, 3, 1, 3, 1, 2, 2, 2, 2, 1, 2, 1, 3, 3, 2, 1, 1, 2, 2, 3, 3, 2, 1, 3, 1, 1, 3, 2, 1, 2, 3, 3, 3, 1, 1, 2, 2, 3, 3, 3, 1, 3, 1, 2, 1, 3, 2, 2, 2, 3, 3, 1, 3, 3, 2, 2, 1, 2, 1, 1, 1, 1, 3, 2, 2, 3, 2, 2, 3, 3, 2, 2, 2, 3, 1, 3, 1, 1, 3, 1, 3, 2, 3, 1, 1, 1, 2, 3, 2, 3, 2, 3, 3, 1, 1, 1, 2, 3, 3, 3, 3, 3, 2, 3, 3, 1, 1, 1, 1, 1, 3, 2, 3, 3, 2, 1, 3, 3, 3, 2, 3, 3, 3, 1, 3, 2, 3, 1, 1, 3, 1, 1, 1, 3, 2, 3, 3, 1, 1, 1, 3, 2, 2, 3, 3, 3, 1, 3, 1, 2, 3, 2, 1, 2, 2, 3, 2, 3, 3, 2, 3, 3, 1, 3, 3, 3, 1, 1, 3, 1, 2, 1, 2, 2, 1, 3, 3, 2, 3, 1, 1, 3, 3, 1, 3, 1, 2, 2, 1, 1, 1, 1, 1, 1, 3, 3, 1, 2, 3, 1, 3, 3, 1, 1, 1, 2, 3, 3, 1, 0, 3, 1, 3, 1, 2, 1, 3, 2, 3, 1, 1, 1, 1, 1, 1, 3, 1, 3, 3, 2, 1, 3, 1, 3, 1, 2, 3, 1, 3, 2, 1, 2, 2, 3, 3, 1, 3, 3, 2, 2, 2, 3, 3, 3, 3, 3, 3, 2, 1, 2, 3, 2, 3, 3, 3, 3, 2, 1, 3, 3, 2, 2, 3, 1, 1, 1, 1, 1, 1, 2, 3, 2, 1, 3, 1, 3, 3, 2, 1, 1, 3, 2, 2, 2, 3, 1, 2, 1, 1, 2, 1, 1, 2, 1, 3, 3, 3, 2, 1, 1, 2, 3, 1, 1, 2, 2, 3, 2, 3, 2, 1, 3, 3, 2, 3, 1, 2, 3, 1, 3, 3, 2, 1, 1, 1, 3, 1, 2, 1, 1, 2, 1, 0, 1, 3, 1, 1, 1, 1, 3, 3, 3, 2, 2, 2, 2, 1, 3, 3, 3, 3, 3, 3, 1, 3, 2, 3, 3, 2, 1, 3, 3, 1, 2, 1, 1, 3, 3, 3, 2, 3, 1, 1, 3, 1, 3, 3, 3, 1, 2, 2, 2, 2, 3, 1, 1, 2, 2, 3, 3, 1, 2, 3, 2, 3, 2, 3, 1, 1, 2, 3, 2, 2, 1, 2, 1, 3, 3, 2, 2, 1, 3, 2, 1, 3, 1, 3, 1, 2, 3, 1, 1, 1, 1, 2, 2, 1, 1, 2, 1, 1, 3, 3, 2, 3, 1, 1, 2, 3, 1, 3, 2, 3, 1, 3, 2, 1, 1, 3, 1, 1, 1, 3, 3, 2, 1, 3, 3, 2, 2, 3, 2, 1, 1, 2, 3, 3, 1, 3, 1, 1, 2, 1, 2, 3, 2, 3, 3, 3, 1, 1, 1, 1, 3, 1, 1, 3, 1, 1, 3, 3, 1, 3, 1, 2, 2, 1, 1, 3, 2, 3, 2, 2, 1, 2, 3, 2, 2, 3, 2, 3, 1, 2, 3, 3, 2, 1, 3, 3, 3, 2, 3, 3, 1, 1, 3, 2, 3, 3, 3, 2, 3, 3, 2, 1, 1, 1, 1, 2, 1, 1, 2, 1, 1, 3, 3, 3, 1, 1, 3, 3, 3, 3, 2, 1, 3, 2, 2, 2, 1, 1, 1, 2, 2, 1, 1, 1, 3, 2, 1, 1, 1, 3, 1, 3, 3, 2, 1, 1, 3, 1, 1, 2, 1, 2, 3, 3, 2, 1, 1, 3, 3, 1, 3, 1, 3, 1, 3, 2, 1, 1, 3, 2, 3, 3, 2, 2, 2, 2, 3, 1, 1, 2, 2, 1, 1, 2, 1, 2, 2, 1, 3, 3, 1, 2, 2, 1, 1, 2, 3, 0, 2, 1, 2, 3, 2, 0, 1, 1, 1, 2, 3, 1, 3, 1, 1, 3, 2, 1, 1, 2, 2, 3, 3, 1, 2, 2, 2, 3, 3, 3, 1, 1, 2, 3, 1, 3, 3, 3, 1, 1, 2, 1, 1, 3, 3, 1, 3, 3, 2, 2, 1, 1, 3, 3, 3, 3, 3, 2, 2, 1, 2, 1, 2, 3, 3, 1, 3, 1, 3, 1, 2, 1, 1, 1, 3, 1, 1, 1, 3, 1, 3, 2, 3, 2, 1, 1, 3, 3, 2, 2, 1, 2, 1, 1, 1, 1, 1, 3, 3, 1, 3, 3, 1, 1, 1, 3, 1, 1, 1, 2, 2, 1, 3, 3, 3, 2, 1, 2, 2, 3, 2, 3, 1, 2, 3, 2, 1, 3, 1, 2, 1, 3, 1, 2, 1, 3, 2, 2, 3, 3, 3, 1, 2, 3, 2, 2, 2, 3, 3, 2, 1, 1, 2, 1, 2, 2, 3, 3, 3, 1, 3, 1, 3, 3, 1, 3, 1, 2, 3, 2, 2, 2, 2, 1, 3, 2, 1, 1, 2, 3, 3, 3, 1, 1, 3, 2, 1, 2, 3, 2, 2, 3, 3, 2, 3, 1, 2, 1, 1, 3, 1, 3, 3, 3, 2, 2, 2, 3, 1, 3, 2, 2, 3, 1, 3, 3, 2, 3, 3, 3, 1, 2, 1, 3, 1, 3, 2, 2, 1, 1, 1, 3, 1, 3, 1, 2, 3, 3, 1, 1, 2, 2, 1, 1, 1, 2, 3, 2, 3, 1, 3, 1, 1, 2, 2, 1, 2, 2, 3, 3, 1, 3, 2, 1, 2, 1, 2, 2, 1, 1, 3, 3, 2, 2, 1, 1, 1, 3, 3, 2, 2, 1, 2, 3, 2, 3, 1, 1, 1, 2, 1, 3, 3, 3, 1, 1, 3, 3, 2, 3, 2, 2, 1, 2, 1, 1, 1, 1, 1, 2, 2, 3, 3, 1, 2, 3, 3, 3, 1, 3, 3, 1, 2, 1, 3, 2, 1, 1, 1, 2, 1, 2, 3, 1, 2, 2, 1, 1, 1, 2, 1, 1, 3, 3, 3, 3, 1, 2, 3, 3, 3, 1, 3, 2, 1, 2, 3, 2, 2, 2, 2, 2, 3, 2, 1, 1, 3, 3, 3, 3, 3, 3, 3, 2, 2, 1, 1, 1, 1, 2, 1, 3, 3, 1, 1, 3, 3, 2, 1, 1, 2, 1, 3, 3, 3, 1, 3, 3, 3, 1, 2, 1, 3, 3, 1, 2, 3, 2, 2, 1, 1, 2, 3, 3, 1, 3, 1, 1, 3, 3, 1, 3, 0, 2, 3, 2, 1, 3, 1, 2, 3, 2, 2, 2, 1, 2, 1, 1, 3, 1, 2, 1, 1, 3, 2, 3, 1, 3, 3, 3, 1, 1, 1, 1, 3, 3, 2, 1, 2, 2, 3, 3, 2, 3, 1, 1, 1, 1, 1, 3, 3, 3, 2, 3, 2, 1, 2, 1, 1, 1, 1, 3, 3, 1, 3, 3, 1, 3, 3, 3, 1, 2, 1, 1, 1, 1, 2, 3, 2, 3, 2, 1, 3, 3, 2, 2, 2, 1, 1, 3, 3, 2, 3, 1, 3, 3, 3, 2, 3, 1, 3, 2, 2, 3, 3, 3, 2, 3, 3, 0, 2, 1, 2, 1, 2, 2, 3, 1, 1, 1, 3, 1, 1, 3, 3, 1, 1, 1, 3, 3, 3, 2, 3, 1, 2, 3, 1, 3, 3, 2, 3, 1, 3, 1, 2, 1, 3, 1, 3, 3, 1, 3, 3, 1, 2, 1, 3, 3, 2, 2, 1, 2, 2, 2, 3, 1, 3, 3, 1, 3, 3, 1, 1, 1, 2, 3, 3, 2, 3, 1, 2, 2, 1, 3, 1, 1, 3, 3, 1, 3, 3, 2, 1, 1, 2, 3, 3, 1, 1, 2, 1, 1, 1, 3, 1, 3, 2, 2, 2, 1, 3, 1, 3, 3, 1, 3, 3, 3, 3, 1, 3, 1, 1, 3, 3, 1, 3, 3, 3, 3, 2, 3, 2, 1, 1, 3, 1, 2, 1, 1, 3, 2, 0, 1, 1, 1, 1, 2, 2, 3, 3, 1, 3, 1, 3, 2, 3, 1, 2, 3, 1, 3, 1, 2, 1, 1, 3, 3, 1, 3, 3, 2, 3, 3, 2, 3, 2, 3, 1, 1, 1, 2, 1, 3, 3, 1, 1, 3, 1, 1, 2, 1, 3, 2, 1, 2, 1, 3, 1, 2, 1, 3, 1, 2, 2, 3, 1, 1, 3, 3, 1, 1, 2, 2, 3, 1, 2, 2, 2, 1, 1, 1, 3, 1, 3, 1, 1, 1, 3, 3, 1, 2, 1, 3, 1, 2, 2, 1, 1, 1, 2, 1, 3, 2, 3, 1, 1, 2, 1, 3, 2, 3, 1, 1, 1, 1, 1, 3, 1, 2, 1, 3, 1, 2, 3, 1, 2, 1, 3, 3, 3, 2, 2, 2, 2, 1, 1, 1, 1, 2, 1, 1, 1, 3, 3, 3, 3, 3, 1, 2, 1, 2, 3, 1, 1, 3, 1, 1, 3, 1, 3, 3, 2, 1, 1, 2, 2, 1, 3, 1, 3, 3, 1, 1, 2, 1, 1, 1, 2, 1, 3, 2, 3, 3, 2, 3, 2, 2, 3, 3, 1, 2, 1, 1, 2, 3, 3, 2, 2, 1, 1, 2, 2, 1, 1, 2, 3, 3, 2, 3, 1, 3, 3, 3, 3, 2, 3, 2, 1, 3, 3, 1, 1, 2, 2, 3, 3, 2, 3, 1, 3, 2, 1, 2, 2, 3, 3, 1, 3, 2, 2, 1, 1, 1, 1, 1, 2, 2, 3, 2, 1, 3, 3, 1, 1, 1, 2, 1, 3, 1, 3, 1, 3, 3, 1, 1, 3, 3, 1, 3, 3, 1, 2, 1, 3, 1, 1, 2, 2, 1, 1, 1, 3, 1, 2, 3, 2, 3, 2, 1, 2, 3, 3, 3, 1, 3, 1, 3, 3, 3, 3, 3, 3, 1, 1, 2, 3, 1, 3, 3, 3, 3, 3, 1, 1, 2, 1, 1, 1, 1, 1, 2, 3, 2, 3, 2, 2, 3, 1, 3, 3, 1, 3, 1, 2, 2, 3, 2, 1, 3, 3, 2, 2, 1, 2, 2, 3, 3, 2, 1, 2, 2, 2, 3, 3, 1, 3, 1, 2, 2, 3, 2, 3, 1, 2, 2, 2, 3, 2, 3, 2, 2, 2, 1, 1, 2, 1, 2, 2, 1, 3, 3, 2, 2, 3, 3, 1, 2, 2, 3, 1, 3, 2, 1, 1, 2, 3, 1, 1, 2, 3, 2, 3, 1, 3, 2, 3, 1, 1, 2, 3, 1, 2, 1, 3, 1, 3, 3, 2, 2, 2, 3, 3, 2, 3, 1, 1, 3, 1, 2, 2, 3, 1, 1, 2, 1, 3, 3, 1, 3, 3, 1, 2, 1, 1, 1, 3, 3, 3, 1, 3, 2, 2, 2, 3, 3, 1, 3, 2, 2, 1, 1, 3, 2, 2, 1, 3, 3, 3, 2, 1, 3, 2, 1, 2, 2, 3, 1, 1, 3, 1, 2, 2, 2, 2, 3, 3, 3, 3, 3, 3, 2, 3, 1, 1, 1, 2, 3, 3, 1, 1, 1, 3, 3, 3, 1, 1, 1, 1, 2, 3, 3, 3, 3, 3, 3, 3, 3, 1, 3, 1, 2, 1, 3, 1, 3, 1, 3, 3, 2, 3, 1, 1, 1, 3, 2, 1, 2, 2, 1, 3, 1, 1, 1, 2, 2, 1, 1, 2, 1, 1, 3, 1, 1, 0, 1, 1, 1, 1, 2, 3, 2, 1, 3, 3, 1, 1, 1, 2, 3, 3, 2, 3, 3, 3, 1, 3, 2, 1, 1, 3, 2, 2, 1, 2, 2, 1, 3, 1, 3, 0, 1, 2, 1, 3, 1, 2, 1, 0, 3, 3, 1, 2, 3, 2, 1, 3, 2, 1, 2, 2, 1, 2, 1, 1, 2, 3, 2, 2, 2, 3, 2, 3, 1, 2, 1, 2, 3, 3, 2, 2, 2, 3, 2, 3, 1, 2, 3, 2, 3, 1, 3, 3, 1, 2, 1, 2, 2, 3, 3, 1, 2, 2, 3, 1, 1, 2, 3, 3, 3, 2, 3, 1, 1, 3, 3, 1, 3, 3, 2, 3, 1, 1, 1, 1, 3, 3, 2, 3, 2, 1, 1, 3, 3, 3, 2, 3, 2, 3, 1, 1, 1, 1, 1, 2, 1, 3, 1, 2, 2, 3, 1, 2, 1, 2, 1, 3, 2, 3, 1, 3, 1, 1, 3, 1, 2, 2, 2, 2, 3, 1, 2, 2, 1, 1, 3, 2, 1, 1, 2, 3, 2, 2, 3, 2, 2, 1, 3, 2, 3, 3, 1, 1, 1, 1, 2, 3, 2, 1, 1, 3, 2, 3, 3, 3, 3, 1, 2, 2, 0, 1, 1, 3, 1, 3, 1, 1, 2, 1, 3, 3, 3, 2, 2, 1, 1, 3, 1, 2, 3, 2, 1, 3, 3, 3, 1, 2, 1, 3, 1, 1, 2, 3, 3, 1, 1, 3, 1, 2, 3, 1, 3, 2, 1, 1, 2, 1, 1, 3, 1, 2, 2, 1, 3, 1, 2, 3, 3, 1, 3, 2, 2, 1, 1, 2, 1, 2, 1, 2, 1, 1, 1, 3, 2, 3, 3, 3, 3, 1, 1, 2, 3, 2, 1, 1, 1, 1, 2, 1, 1, 2, 1, 3, 2, 1, 1, 3, 1, 1, 2, 1, 1, 2, 1, 1, 2, 1, 3, 3, 3, 2, 2, 3, 2, 1, 1, 0, 2, 1, 1, 1, 3, 3, 2, 3, 2, 1, 3, 1, 1, 3, 2, 1, 3, 3, 3, 2, 2, 2, 1, 1, 3, 1, 2, 1, 1, 2, 1, 2, 3, 3, 2, 3, 1, 1, 3, 2, 3, 2, 2, 1, 3, 2, 2, 3, 1, 1, 3, 3, 3, 1, 1, 3, 3, 3, 1, 2, 2, 2, 3, 1, 1, 2, 3, 1, 1, 2, 1, 3, 1, 1, 1, 1, 3, 2, 1, 3, 2, 3, 3, 2, 1, 1, 3, 3, 1, 1, 2, 2, 3, 3, 1, 3, 1, 2, 2, 2, 2, 1, 3, 1, 3, 3, 1, 2, 1, 2, 1, 2, 1, 2, 1, 2, 3, 1, 3, 3, 2, 1, 3, 1, 1, 2, 2, 3, 1, 3, 1, 3, 1, 3, 1, 1, 1, 3, 2, 1, 2, 2, 3, 3, 2, 1, 1, 3, 1, 3, 1, 2, 1, 3, 1, 1, 2, 1, 2, 2, 2, 1, 2, 1, 1, 3, 1, 2, 1, 3, 1, 2, 1, 2, 1, 3, 2, 3, 1, 1, 2, 2, 3, 2, 3, 1, 1, 1, 1, 1, 1, 1, 2, 3, 1, 2, 3, 2, 1, 2, 3, 3, 3, 3, 2, 3, 3, 2, 1, 3, 3, 3, 3, 2, 2, 1, 3, 2, 3, 3, 3, 3, 2, 3, 2, 1, 3, 1, 3, 2, 3, 2, 3, 3, 1, 3, 3, 1, 3, 1, 3, 3, 2, 3, 3, 3, 1, 1, 2, 3, 2, 1, 3, 3, 3, 2, 1, 1, 1, 2, 1, 1, 3, 2, 1, 2, 1, 1, 1, 1, 3, 3, 3, 1, 3, 1, 1, 3, 3, 2, 1, 1, 3, 3, 3, 2, 1, 2, 3, 2, 1, 3, 2, 2, 2, 2, 1, 1, 2, 1, 1, 2, 3, 1, 3, 1, 3, 1, 3, 3, 2, 1, 2, 1, 3, 3, 2, 3, 1, 2, 3, 2, 1, 3, 2, 2, 3, 1, 3, 2, 2, 1, 3, 3, 3, 3, 2, 3, 1, 1, 2, 3, 3, 1, 3, 3, 3, 1, 2, 1, 3, 3, 3, 3, 1, 1, 1, 2, 3, 3, 2, 3, 3, 1, 3, 1, 1, 1, 1, 2, 3, 1, 1, 0, 1, 2, 3, 2, 3, 2, 1, 1, 3, 3, 2, 3, 3, 2, 2, 1, 3, 2, 2, 2, 1, 1, 3, 1, 3, 2, 1, 2, 1, 2, 1, 3, 3, 1, 1, 2, 3, 2, 1, 1, 2, 2, 1, 1, 1, 2, 3, 2, 2, 1, 3, 1, 2, 3, 3, 1, 3, 3, 3, 2, 3, 2, 3, 1, 1, 3, 2, 3, 3, 2, 1, 3, 2, 1, 3, 1, 2, 2, 2, 1, 3, 1, 2, 2, 2, 3, 1, 1, 1, 2, 3, 2, 3, 3, 1, 2, 3, 2, 3, 1, 2, 2, 3, 1, 1, 2, 2, 1, 2, 3, 3, 1, 2, 1, 3, 3, 2, 1, 2, 3, 2, 1, 3, 1, 2, 1, 1, 2, 3, 3, 1, 1, 3, 1, 1, 1, 2, 2, 1, 3, 2, 2, 1, 1, 1, 3, 3, 3, 1, 3, 2, 3, 1, 2, 2, 1, 3, 1, 1, 1, 1, 3, 2, 2, 3, 1, 3, 3, 3, 2, 3, 2, 3, 2, 3, 1, 2, 3, 3, 1, 2, 2, 1, 3, 2, 3, 1, 1, 1, 2, 2, 2, 1, 3, 3, 3, 3, 1, 2, 3, 3, 3, 3, 1, 2, 3, 1, 3, 0, 1, 2, 3, 0, 3, 3, 2, 3, 3, 2, 2, 3, 3, 2, 3, 2, 1, 2, 3, 2, 2, 3, 3, 1, 2, 2, 3, 1, 1, 2, 1, 1, 2, 1, 3, 2, 3, 1, 3, 1, 3, 1, 3, 3, 2, 1, 3, 2, 2, 3, 3, 1, 1, 2, 3, 3, 1, 1, 3, 2, 1, 3, 2, 1, 1, 2, 2, 2, 3, 2, 2, 2, 3, 1, 2, 3, 3, 1, 2, 3, 2, 3, 3, 3, 1, 1, 2, 1, 0, 1, 1, 1, 2, 1, 1, 1, 2, 3, 2, 1, 2, 1, 1, 3, 2, 1, 2, 3, 3, 3, 1, 1, 1, 1, 1, 3, 3, 3, 1, 1, 2, 1, 2, 2, 3, 1, 2, 2, 1, 1, 3, 1, 3, 2, 3, 2, 1, 2, 1, 1, 2, 1, 3, 3, 1, 1, 3, 2, 1, 1, 3, 3, 1, 1, 3, 3, 1, 2, 3, 3, 3, 1, 2, 2, 1, 2, 1, 2, 2, 1, 2, 3, 1, 3, 1, 2, 3, 3, 2, 2, 1, 1, 1, 3, 3, 3, 1, 2, 1, 3, 1, 1, 3, 2, 2, 1, 1, 2, 1, 3, 3, 1, 2, 3, 1, 3, 2, 3, 1, 3, 1, 3, 2, 2, 2, 1, 1, 2, 1, 1, 2, 3, 1, 3, 2, 1, 1, 3, 2, 2, 3, 2, 1, 3, 1, 1, 1, 3, 3, 3, 1, 2, 1, 1, 3, 3, 3, 3, 1, 2, 3, 1, 2, 1, 1, 1, 3, 3, 3, 3, 3, 1, 2, 1, 3, 2, 3, 3, 1, 1, 2, 3, 3, 3, 1, 1, 1, 2, 1, 2, 2, 2, 2, 1, 2, 2, 2, 1, 3, 2, 3, 1, 2, 1, 3, 3, 3, 1, 1, 3, 2, 2, 2, 2, 3, 2, 3, 1, 1, 1, 3, 1, 3, 1, 1, 2, 1, 1, 1, 3, 3, 2, 3, 0, 1, 2, 1, 1, 2, 2, 2, 3, 3, 2, 3, 2, 1, 1, 2, 3, 3, 1, 1, 1, 3, 3, 3, 3, 3, 3, 3, 1, 3, 0, 2, 2, 1, 3, 3, 3, 3, 1, 1, 2, 3, 2, 3, 1, 1, 2, 1, 2, 2, 3, 3, 1, 1, 2, 2, 1, 3, 1, 2, 3, 1, 1, 3, 3, 3, 1, 1, 1, 2, 3, 2, 1, 2, 3, 2, 2, 1, 3, 3, 1, 3, 3, 2, 3, 3, 3, 2, 2, 2, 2, 1, 2, 3, 1, 2, 2, 1, 2, 1, 2, 3, 1, 2, 2, 2, 1, 2, 2, 1, 2, 3, 1, 3, 1, 1, 1, 3, 2, 1, 2, 1, 2, 2, 3, 3, 1, 1, 1, 1, 1, 3, 3, 1, 3, 1, 1, 3, 3, 2, 2, 1, 3, 3, 2, 1, 1, 1, 3, 2, 3, 3, 3, 1, 2, 1, 2, 3, 2, 2, 3, 1, 1, 3, 2, 3, 2, 1, 1, 2, 3, 1, 1, 3, 1, 3, 3, 3, 3, 1, 1, 3, 1, 2, 2, 2, 2, 3, 3, 3, 3, 3, 1, 3, 2, 1, 3, 2, 1, 3, 3, 2, 1, 3, 2, 2, 1, 3, 0, 2, 2, 1, 2, 2, 1, 3, 1, 3, 3, 2, 1, 3, 2, 3, 3, 2, 2, 2, 2, 3, 2, 2, 2, 2, 1, 3, 1, 1, 1, 1, 1, 3, 3, 2, 2, 2, 2, 1, 2, 2, 3, 1, 1, 1, 1, 3, 2, 2, 1, 1, 2, 2, 1, 1, 2, 2, 2, 2, 1, 2, 3, 1, 2, 2, 2, 1, 2, 1, 3, 1, 1, 3, 1, 2, 1, 2, 2, 2, 2, 3, 2, 3, 3, 1, 3, 2, 1, 1, 1, 1, 3, 1, 3, 2, 1, 1, 3, 2, 3, 1, 3, 2, 3, 3, 1, 3, 2, 3, 3, 1, 1, 1, 1, 1, 1, 1, 3, 1, 2, 2, 1, 1, 3, 2, 2, 2, 3, 1, 2, 1, 1, 1, 3, 2, 3, 1, 1, 2, 2, 2, 2, 2, 1, 3, 2, 2, 2, 1, 1, 2, 3, 2, 2, 3, 1, 1, 3, 3, 2, 3, 1, 2, 3, 2, 2, 1, 2, 3, 2, 2, 3, 1, 1, 2, 1, 1, 2, 3, 2, 3, 2, 1, 1, 1, 2, 3, 3, 3, 2, 2, 1, 2, 1, 3, 3, 1, 3, 1, 2, 1, 2, 2, 3, 1, 3, 3, 3, 3, 2, 2, 3, 2, 2, 1, 1, 2, 3, 2, 3, 3, 2, 1, 3, 2, 2, 2, 2, 3, 1, 3, 1, 2, 2, 1, 1, 3, 1, 3, 1, 3, 1, 3, 3, 2, 2, 1, 1, 3, 1, 3, 3, 1, 3, 3, 2, 3, 3, 3, 3, 2, 2, 1, 3, 2, 3, 1, 2, 1, 1, 1, 2, 2, 2, 2, 1, 3, 3, 3, 3, 2, 2, 2, 1, 3, 3, 1, 3, 1, 2, 1, 2, 1, 3, 3, 1, 1, 1, 2, 1, 1, 3, 1, 1, 1, 1, 3, 1, 3, 3, 3, 2, 2, 1, 3, 3, 2, 2, 0, 0, 3, 3, 3, 2, 2, 3, 1, 3, 3, 3, 1, 1, 3, 2, 3, 3, 1, 3, 3, 0, 3, 1, 3, 3, 3, 1, 2, 2, 1, 1, 1, 2, 3, 3, 3, 2, 1, 1, 2, 2, 2, 2, 1, 2, 3, 3, 3, 3, 3, 1, 2, 3, 3, 1, 2, 1, 3, 2, 2, 3, 2, 1, 1, 3, 2, 1, 0, 1, 3, 1, 3, 2, 1, 2, 1, 1, 3, 1, 1, 3, 1, 2, 3, 1, 1, 1, 2, 2, 2, 2, 1, 1, 2, 1, 2, 1, 3, 2, 3, 1, 1, 3, 2, 3, 2, 1, 3, 1, 3, 1, 1, 1, 2, 2, 2, 2, 3, 3, 1, 2, 1, 3, 2, 0, 2, 3, 2, 2, 1, 3, 2, 2, 1, 1, 1, 2, 1, 1, 3, 1, 3, 3, 1, 2, 3, 2, 2, 2, 3, 2, 2, 1, 1, 2, 0, 3, 1, 2, 2, 3, 1, 2, 1, 3, 2, 2, 1, 3, 3, 3, 1, 3, 3, 1, 3, 3, 1, 2, 3, 1, 1, 1, 1, 3, 2, 3, 3, 3, 2, 2, 1, 1, 1, 3, 1, 1, 1, 1, 1, 1, 1, 3, 1, 1, 2, 2, 2, 1, 3, 2, 2, 1, 1, 1, 2, 3, 1, 1, 2, 1, 1, 3, 1, 3, 1, 2, 3, 1, 3, 3, 1, 1, 1, 1, 1, 1, 3, 1, 1, 1, 3, 1, 3, 2, 2, 2, 1, 1, 3, 2, 2, 2, 1, 3, 3, 3, 3, 1, 3, 1, 2, 1, 2, 3, 3, 1, 3, 2, 3, 1, 1, 2, 2, 3, 2, 2, 3, 2, 2, 3, 1, 2, 3, 2, 2, 1, 1, 2, 1, 3, 3, 3, 3, 3, 3, 2, 1, 1, 1, 3, 3, 1, 2, 1, 2, 3, 2, 1, 2, 3, 2, 1, 3, 1, 1, 1, 3, 3, 1, 1, 3, 2, 3, 1, 2, 2, 3, 2, 1, 2, 3, 3, 2, 3, 2, 2, 3, 1, 3, 1, 3, 2, 1, 3, 1, 3, 1, 1, 2, 3, 2, 1, 1, 3, 1, 2, 1, 1, 2, 3, 2, 3, 3, 2, 1, 1, 2, 2, 3, 3, 1, 1, 3, 1, 1, 3, 3, 2, 1, 2, 1, 2, 2, 2, 3, 2, 1, 2, 1, 2, 3, 1, 2, 1, 1, 3, 3, 1, 2, 3, 3, 1, 1, 1, 2, 2, 3, 3, 1, 1, 2, 2, 2, 3, 1, 1, 1, 2, 1, 3, 1, 3, 3, 1, 1, 2, 1, 1, 1, 3, 3, 3, 2, 3, 1, 1, 3, 3, 2, 2, 0, 3, 1, 2, 3, 3, 2, 1, 1, 1, 3, 1, 1, 2, 2, 1, 3, 3, 1, 1, 1, 2, 2, 2, 1, 2, 2, 1, 3, 2, 3, 2, 1, 2, 2, 3, 3, 3, 2, 1, 1, 3, 1, 3, 3, 3, 1, 3, 3, 3, 1, 2, 2, 3, 2, 2, 1, 1, 1, 2, 3, 2, 1, 3, 2, 2, 3, 1, 1, 2, 3, 2, 2, 3, 1, 3, 2, 3, 1, 1, 3, 1, 1, 1, 1, 3, 2, 2, 2, 1, 1, 3, 3, 3, 3, 1, 3, 3, 2, 3, 3, 3, 3, 1, 2, 1, 3, 1, 1, 1, 3, 3, 2, 1, 1, 3, 2, 3, 2, 2, 1, 3, 3, 2, 3, 1, 1, 1, 3, 2, 3, 3, 1, 1, 1, 3, 1, 1, 3, 1, 3, 2, 3, 1, 2, 3, 2, 2, 1, 3, 3, 3, 2, 1, 1, 1, 1, 2, 1, 1, 3, 2, 3, 1, 3, 3, 1, 3, 1, 1, 3, 1, 2, 3, 1, 2, 1, 3, 3, 2, 2, 2, 2, 1, 1, 2, 3, 1, 2, 1, 3, 3, 1, 1, 1, 1, 1, 3, 3, 3, 2, 1, 1, 2, 3, 3, 2, 3, 1, 1, 1, 2, 1, 3, 1, 1, 1, 1, 2, 1, 3, 2, 1, 3, 1, 2, 3, 2, 3, 1, 1, 1, 1, 1, 3, 2, 2, 3, 2, 3, 3, 2, 1, 1, 3, 3, 1, 2, 1, 1, 3, 2, 3, 2, 2, 1, 1, 1, 3, 3, 1, 3, 1, 1, 3, 3, 3, 1, 3, 3, 1, 2, 2, 2, 1, 2, 1, 3, 3, 1, 2, 1, 2, 2, 3, 1, 2, 2, 3, 2, 3, 1, 2, 2, 1, 1, 3, 1, 3, 3, 3, 1, 3, 3, 3, 1, 1, 1, 0, 1, 3, 3, 3, 2, 3, 3, 3, 2, 2, 2, 1, 1, 3, 3, 3, 3, 2, 2, 2, 2, 3, 1, 1, 1, 2, 1, 2, 2, 3, 2, 3, 1, 1, 2, 1, 1, 3, 3, 3, 1, 3, 2, 2, 1, 3, 3, 2, 1, 1, 3, 3, 3, 1, 3, 3, 2, 1, 2, 3, 1, 2, 2, 2, 3, 3, 2, 1, 3, 2, 1, 2, 1, 3, 2, 2, 3, 1, 1, 3, 1, 3, 3, 2, 3, 2, 2, 2, 3, 3, 2, 3, 3, 2, 2, 1, 2, 3, 3, 3, 1, 3, 3, 3, 3, 3, 3, 2, 1, 2, 3, 3, 1, 1, 2, 3, 0, 1, 2, 2, 2, 3, 3, 1, 2, 3, 2, 1, 1, 2, 3, 3, 1, 2, 2, 1, 2, 2, 2, 1, 3, 3, 2, 3, 1, 3, 3, 1, 3, 3, 1, 2, 2, 3, 1, 3, 1, 3, 1, 2, 2, 1, 2, 1, 1, 3, 3, 2, 3, 3, 2, 3, 2, 2, 2, 1, 1, 2, 3, 1, 3, 3, 2, 1, 1, 3, 3, 3, 2, 2, 3, 2, 3, 2, 1, 1, 3, 1, 2, 1, 1, 1, 2, 1, 2, 1, 1, 2, 3, 1, 2, 2, 2, 2, 3, 1, 3, 1, 1, 1, 2, 3, 3, 2, 1, 2, 2, 3, 3, 1, 2, 2, 1, 2, 1, 1, 2, 1, 2, 1, 1, 0, 1, 2, 2, 2, 3, 1, 2, 3, 1, 1, 3, 1, 3, 1, 2, 1, 3, 2, 2, 3, 3, 2, 1, 2, 1, 3, 2, 3, 1, 1, 1, 1, 1, 1, 3, 3, 3, 1, 3, 3, 3, 1, 3, 3, 2, 1, 3, 1, 3, 3, 2, 1, 1, 3, 2, 3, 1, 3, 3, 3, 1, 1, 1, 3, 2, 1, 3, 3, 2, 2, 1, 1, 3, 2, 3, 2, 1, 1, 1, 1, 3, 1, 1, 2, 3, 1, 2, 3, 3, 1, 2, 2, 2, 3, 2, 2, 1, 3, 1, 2, 3, 3, 1, 3, 1, 3, 3, 1, 1, 2, 3, 2, 1, 1, 2, 2, 2, 1, 1, 2, 3, 1, 2, 2, 2, 1, 2, 1, 2, 3, 2, 1, 2, 3, 1, 1, 3, 2, 2, 0, 1, 3, 2, 1, 1, 2, 2, 1, 0, 1, 3, 1, 1, 3, 3, 1, 2, 1, 3, 2, 1, 2, 3, 3, 1, 3, 3, 3, 3, 2, 3, 3, 1, 1, 1, 3, 3, 1, 3, 3, 2, 3, 1, 3, 2, 2, 0, 1, 3, 3, 1, 3, 2, 3, 2, 2, 1, 1, 1, 1, 1, 2, 2, 3, 2, 1, 3, 3, 1, 1, 1, 2, 3, 3, 1, 2, 1, 1, 2, 2, 1, 3, 2, 3, 2, 3, 2, 1, 1, 2, 2, 3, 1, 1, 3, 2, 1, 3, 1, 1, 1, 2, 1, 3, 3, 1, 3, 1, 1, 2, 2, 2, 1, 1, 3, 3, 1, 3, 3, 3, 2, 3, 1, 2, 3, 2, 2, 1, 1, 2, 3, 1, 2, 2, 3, 3, 1, 3, 1, 2, 2, 3, 3, 1, 2, 3, 3, 2, 1, 3, 3, 3, 2, 3, 1, 2, 2, 1, 1, 1, 2, 1, 3, 1, 1, 3, 1, 1, 1, 1, 3, 1, 1, 2, 3, 2, 1, 3, 1, 1, 1, 1, 1, 2, 1, 1, 1, 3, 3, 1, 1, 1, 3, 3, 3, 2, 1, 3, 1, 1, 1, 1, 1, 1, 1, 2, 1, 1, 3, 2, 3, 2, 1, 2, 1, 1, 3, 3, 2, 3, 3, 2, 1, 1, 2, 3, 2, 1, 2, 2, 2, 2, 2, 3, 2, 3, 1, 3, 3, 3, 1, 3, 1, 3, 1, 1, 3, 1, 3, 3, 1, 1, 3, 1, 3, 2, 3, 3, 3, 3, 1, 3, 2, 1, 1, 3, 3, 2, 1, 1, 2, 2, 2, 1, 3, 3, 3, 1, 1, 2, 1, 2, 1, 1, 3, 2, 3, 1, 3, 2, 3, 1, 1, 1, 1, 1, 1, 3, 3, 1, 1, 1, 1, 2, 2, 2, 3, 1, 2, 3, 1, 3, 3, 3, 2, 1, 2, 3, 3, 1, 3, 1, 3, 2, 1, 2, 2, 1, 1, 2, 3, 1, 2, 3, 1, 3, 1, 1, 3, 2, 1, 3, 1, 2, 2, 1, 3, 1, 1, 0, 2, 1, 1, 1, 2, 2, 2, 3, 1, 1, 2, 3, 3, 1, 2, 3, 3, 1, 3, 1, 1, 2, 2, 3, 2, 2]\n",
            "[1 1 3 ... 1 2 1]\n",
            "11880\n",
            "11880\n"
          ]
        }
      ],
      "source": [
        "# display difference between y_true and y_pred\n",
        "print(y_true)\n",
        "print(y_pred.argmax(axis=-1))\n",
        "# check size of y_true and y_pred\n",
        "print(len(y_true))\n",
        "print(len(y_pred.argmax(axis=-1)))"
      ]
    },
    {
      "cell_type": "code",
      "execution_count": 134,
      "metadata": {},
      "outputs": [],
      "source": [
        "import numpy as np\n",
        "from sklearn.metrics import make_scorer\n",
        "from sklearn.model_selection import cross_val_score\n",
        "\n",
        "# Define your custom metric function\n",
        "def custom_metric(y_true, y_pred):\n",
        "    return np.sum(np.abs(y_pred**2 - y_true**2))"
      ]
    },
    {
      "cell_type": "code",
      "execution_count": 137,
      "metadata": {},
      "outputs": [
        {
          "name": "stdout",
          "output_type": "stream",
          "text": [
            "33485\n",
            "2.8186026936026938\n"
          ]
        }
      ],
      "source": [
        "# chnge the y_true and y_pred to numpy arrays\n",
        "y_true = np.array(y_true)\n",
        "y_pred = np.array(y_pred.argmax(axis=-1))\n",
        "\n",
        "# Calculate the custom metric score for the y_true and y_pred\n",
        "print(custom_metric(y_true, y_pred))\n",
        "# divide by the length of y_true\n",
        "print(custom_metric(y_true, y_pred)/len(y_true))"
      ]
    },
    {
      "cell_type": "code",
      "execution_count": 138,
      "metadata": {},
      "outputs": [
        {
          "name": "stdout",
          "output_type": "stream",
          "text": [
            "            ID   Source           Start_Time             End_Time  Start_Lat  \\\n",
            "51721  A-51722  Source2  2016-07-27 09:00:18  2016-07-27 09:30:18  33.885597   \n",
            "72804  A-72811  Source2  2016-11-17 07:16:50  2016-11-17 08:05:05  34.102913   \n",
            "76810  A-76817  Source2  2016-09-13 15:39:19  2016-09-13 16:24:19  34.273643   \n",
            "82705  A-82712  Source2  2016-10-10 12:30:22  2016-10-10 13:15:22  33.983631   \n",
            "89984  A-89991  Source2  2016-08-16 09:17:53  2016-08-16 09:55:00  33.257355   \n",
            "\n",
            "        Start_Lng  Distance(mi)  \\\n",
            "51721 -118.143425          0.00   \n",
            "72804 -118.194695          0.01   \n",
            "76810 -118.038506          0.00   \n",
            "82705 -117.890190          0.00   \n",
            "89984 -117.080429          0.00   \n",
            "\n",
            "                                             Description             Street  \\\n",
            "51721  Accident on Mayne St both ways between Hayter ...           Mayne St   \n",
            "72804  Right hand shoulder blocked due to accident on...           CA-110 N   \n",
            "76810  Accident on CA-2 Angeles Crest Hwy near Upper ...  Angeles Crest Hwy   \n",
            "82705                Accident on Nowell Ave at Radby St.           Radby St   \n",
            "89984  Accident on Minneola Cir both ways near Old Ca...       Minneola Cir   \n",
            "\n",
            "                  City  ... Traffic_Calming Traffic_Signal Turning_Loop  \\\n",
            "51721       Bellflower  ...           False          False        False   \n",
            "72804      Los Angeles  ...           False          False        False   \n",
            "76810         Valyermo  ...           False          False        False   \n",
            "82705  Rowland Heights  ...           False          False        False   \n",
            "89984    Valley Center  ...           False          False        False   \n",
            "\n",
            "      Sunrise_Sunset Civil_Twilight Nautical_Twilight Astronomical_Twilight  \\\n",
            "51721            Day            Day               Day                   Day   \n",
            "72804            Day            Day               Day                   Day   \n",
            "76810            Day            Day               Day                   Day   \n",
            "82705            Day            Day               Day                   Day   \n",
            "89984            Day            Day               Day                   Day   \n",
            "\n",
            "       Month  Season  Severity  \n",
            "51721      7  Summer         1  \n",
            "72804     11    Fall         1  \n",
            "76810      9    Fall         1  \n",
            "82705     10    Fall         1  \n",
            "89984      8  Summer         1  \n",
            "\n",
            "[5 rows x 46 columns]\n",
            "(203936, 46)\n"
          ]
        }
      ],
      "source": [
        "# Using neural Network for the remaining three seasons\n",
        "rest_df = df_us_final[df_us_final['Season']!='Winter']\n",
        "# head\n",
        "print(rest_df.head())\n",
        "# shape\n",
        "print(rest_df.shape)"
      ]
    },
    {
      "cell_type": "code",
      "execution_count": 139,
      "metadata": {},
      "outputs": [
        {
          "name": "stdout",
          "output_type": "stream",
          "text": [
            "1275/1275 [==============================] - 0s 346us/step\n",
            "[[11365   230  1331   392]\n",
            " [ 1565  3165  1389  2779]\n",
            " [ 2092   529  5683  1265]\n",
            " [  544  1031   581  6847]]\n"
          ]
        }
      ],
      "source": [
        "import pandas as pd\n",
        "from sklearn.model_selection import train_test_split\n",
        "from sklearn.preprocessing import StandardScaler\n",
        "\n",
        "# Split data into features and labels\n",
        "X_r = rest_df[Features] # Features\n",
        "y_r = rest_df['Severity']\n",
        "\n",
        "# Split data into training and validation sets\n",
        "X_train_r, X_val_r, y_train_r, y_val_r = train_test_split(X_r, y_r, test_size=0.2, random_state=412)\n",
        "\n",
        "# change the labels to 0-3\n",
        "y_train_r = y_train_r - 1\n",
        "y_val_r = y_val_r - 1\n",
        "\n",
        "# Standardize the features (optional but often beneficial)\n",
        "scaler = StandardScaler()\n",
        "X_train_r = scaler.fit_transform(X_train_r)\n",
        "X_val_r = scaler.transform(X_val_r)\n",
        "\n",
        "# train the model with the best parameters\n",
        "model = create_model(neurons=best_params['neurons'], dropout_rate=best_params['dropout_rate'],\n",
        "                     learning_rate=best_params['learning_rate'], optimizer=best_params['optimizer'],\n",
        "                     activation=best_params['activation'])\n",
        "\n",
        "history = model.fit(X_train_r, y_train_r, validation_data=(X_val_r, y_val_r), epochs=20, batch_size=32, verbose=0)\n",
        "\n",
        "# predict the values for test data\n",
        "y_pred_r = model.predict(X_val_r)\n",
        "\n",
        "# convert the y_true to a list\n",
        "y_true_r = y_val_r.tolist()\n",
        "\n",
        "# calculate the confusion matrix\n",
        "conf_mat_r = confusion_matrix(y_true_r, y_pred_r.argmax(axis=-1))\n",
        "print(conf_mat_r)"
      ]
    },
    {
      "cell_type": "code",
      "execution_count": 140,
      "metadata": {},
      "outputs": [
        {
          "name": "stdout",
          "output_type": "stream",
          "text": [
            "69375\n",
            "1.700867902324213\n"
          ]
        }
      ],
      "source": [
        "# chnge the y_true and y_pred to numpy arrays\n",
        "y_true_r = np.array(y_true_r)\n",
        "y_pred_r = np.array(y_pred_r.argmax(axis=-1))\n",
        "\n",
        "# Calculate the custom metric score for the y_true and y_pred\n",
        "print(custom_metric(y_true_r, y_pred_r))\n",
        "# divide by the length of y_true\n",
        "print(custom_metric(y_true_r, y_pred_r)/len(y_true_r))"
      ]
    },
    {
      "cell_type": "code",
      "execution_count": 141,
      "metadata": {},
      "outputs": [
        {
          "name": "stdout",
          "output_type": "stream",
          "text": [
            "40788\n"
          ]
        }
      ],
      "source": [
        "# length of y_true_r\n",
        "print(len(y_true_r))"
      ]
    }
  ],
  "metadata": {
    "accelerator": "GPU",
    "colab": {
      "gpuType": "T4",
      "provenance": []
    },
    "kernelspec": {
      "display_name": "Python 3",
      "name": "python3"
    },
    "language_info": {
      "codemirror_mode": {
        "name": "ipython",
        "version": 3
      },
      "file_extension": ".py",
      "mimetype": "text/x-python",
      "name": "python",
      "nbconvert_exporter": "python",
      "pygments_lexer": "ipython3",
      "version": "3.9.6"
    }
  },
  "nbformat": 4,
  "nbformat_minor": 0
}
